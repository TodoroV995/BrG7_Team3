{
 "cells": [
  {
   "cell_type": "markdown",
   "id": "72d87479-1b25-4518-93b1-7b464bca66f3",
   "metadata": {},
   "source": [
    "# Brainster Academy Final Project\n",
    "### Team 3: Tatjana Veljkovic, Ilija Todorov, Ivana Tomovska Efremov"
   ]
  },
  {
   "cell_type": "markdown",
   "id": "c567acf2-8b97-4966-8b75-dadbdfc1f45c",
   "metadata": {},
   "source": [
    "### Part Two"
   ]
  },
  {
   "cell_type": "code",
   "execution_count": 1,
   "id": "76ac4a6d-5d1c-48cf-894d-a6e14632e7e1",
   "metadata": {},
   "outputs": [],
   "source": [
    "import pandas as pd\n",
    "import numpy as np\n",
    "import matplotlib.pyplot as plt\n",
    "import seaborn as sns\n",
    "import tqdm\n",
    "from datetime import date"
   ]
  },
  {
   "cell_type": "code",
   "execution_count": 2,
   "id": "fb3731ae-01da-42a3-a935-93ba777759e9",
   "metadata": {},
   "outputs": [],
   "source": [
    "import warnings\n",
    "warnings.filterwarnings('ignore')"
   ]
  },
  {
   "cell_type": "code",
   "execution_count": 3,
   "id": "e615c345-2545-4d3f-ad5a-4c9da0ef4949",
   "metadata": {},
   "outputs": [
    {
     "name": "stderr",
     "output_type": "stream",
     "text": [
      "[nltk_data] Downloading package punkt to\n",
      "[nltk_data]     C:\\Users\\USER\\AppData\\Roaming\\nltk_data...\n",
      "[nltk_data]   Package punkt is already up-to-date!\n",
      "[nltk_data] Downloading package stopwords to\n",
      "[nltk_data]     C:\\Users\\USER\\AppData\\Roaming\\nltk_data...\n",
      "[nltk_data]   Package stopwords is already up-to-date!\n",
      "[nltk_data] Downloading package wordnet to\n",
      "[nltk_data]     C:\\Users\\USER\\AppData\\Roaming\\nltk_data...\n",
      "[nltk_data]   Package wordnet is already up-to-date!\n",
      "[nltk_data] Downloading package averaged_perceptron_tagger to\n",
      "[nltk_data]     C:\\Users\\USER\\AppData\\Roaming\\nltk_data...\n",
      "[nltk_data]   Package averaged_perceptron_tagger is already up-to-\n",
      "[nltk_data]       date!\n",
      "[nltk_data] Downloading package omw-1.4 to\n",
      "[nltk_data]     C:\\Users\\USER\\AppData\\Roaming\\nltk_data...\n",
      "[nltk_data]   Package omw-1.4 is already up-to-date!\n"
     ]
    },
    {
     "data": {
      "text/plain": [
       "True"
      ]
     },
     "execution_count": 3,
     "metadata": {},
     "output_type": "execute_result"
    }
   ],
   "source": [
    "import string\n",
    "import nltk\n",
    "nltk.download('punkt')\n",
    "import re\n",
    "from string import punctuation\n",
    "from nltk.tokenize import WordPunctTokenizer, PunktSentenceTokenizer\n",
    "from nltk.corpus import stopwords\n",
    "from nltk.stem import WordNetLemmatizer, PorterStemmer\n",
    "nltk.download('stopwords')\n",
    "nltk.download('wordnet')\n",
    "nltk.download('averaged_perceptron_tagger')\n",
    "nltk.download('omw-1.4')"
   ]
  },
  {
   "cell_type": "markdown",
   "id": "68cf1677-bffe-431d-8bc0-b1ce364c7418",
   "metadata": {},
   "source": [
    "### Read all years 2011-2015\n",
    "#### By creating a list of all years, we can later choose which year to work with and it makes the procedure easier"
   ]
  },
  {
   "cell_type": "code",
   "execution_count": 4,
   "id": "32df5997",
   "metadata": {},
   "outputs": [],
   "source": [
    "List_of_all_files = ['PartOne_2011','PartOne_2012','PartOne_2013','PartOne_2014','PartOne_2015']"
   ]
  },
  {
   "cell_type": "code",
   "execution_count": 5,
   "id": "349dfa4c-7174-4415-9075-897d3288dc39",
   "metadata": {},
   "outputs": [],
   "source": [
    "Working_file = List_of_all_files[3] #Chose file for working"
   ]
  },
  {
   "cell_type": "code",
   "execution_count": 6,
   "id": "0c9379ea-b158-4afe-9002-2b55f184e784",
   "metadata": {},
   "outputs": [
    {
     "data": {
      "text/plain": [
       "'PartOne_2014'"
      ]
     },
     "execution_count": 6,
     "metadata": {},
     "output_type": "execute_result"
    }
   ],
   "source": [
    "Working_file"
   ]
  },
  {
   "cell_type": "markdown",
   "id": "8eae7d2d-876e-4843-ad0c-6fcf267fb161",
   "metadata": {},
   "source": [
    "### Read file for further processing"
   ]
  },
  {
   "cell_type": "code",
   "execution_count": 7,
   "id": "3b7c4ccc-a116-40ef-b3a4-6d74ad01fda3",
   "metadata": {},
   "outputs": [],
   "source": [
    "twitter_health = pd.read_csv(Working_file + '.csv')"
   ]
  },
  {
   "cell_type": "code",
   "execution_count": 8,
   "id": "b3e388e9-5f71-43ef-b820-dc537cbef933",
   "metadata": {},
   "outputs": [
    {
     "data": {
      "text/html": [
       "<div>\n",
       "<style scoped>\n",
       "    .dataframe tbody tr th:only-of-type {\n",
       "        vertical-align: middle;\n",
       "    }\n",
       "\n",
       "    .dataframe tbody tr th {\n",
       "        vertical-align: top;\n",
       "    }\n",
       "\n",
       "    .dataframe thead th {\n",
       "        text-align: right;\n",
       "    }\n",
       "</style>\n",
       "<table border=\"1\" class=\"dataframe\">\n",
       "  <thead>\n",
       "    <tr style=\"text-align: right;\">\n",
       "      <th></th>\n",
       "      <th>Number</th>\n",
       "      <th>Date_Time</th>\n",
       "      <th>info</th>\n",
       "      <th>source</th>\n",
       "      <th>Core_info_final</th>\n",
       "      <th>year</th>\n",
       "    </tr>\n",
       "  </thead>\n",
       "  <tbody>\n",
       "    <tr>\n",
       "      <th>0</th>\n",
       "      <td>550314934601383936</td>\n",
       "      <td>2014-12-31 15:37:59+00:00</td>\n",
       "      <td>Experimental drug for UK Ebola nurse http://bb...</td>\n",
       "      <td>bbchealth</td>\n",
       "      <td>Experimental drug for UK Ebola nurse</td>\n",
       "      <td>2014</td>\n",
       "    </tr>\n",
       "    <tr>\n",
       "      <th>1</th>\n",
       "      <td>550221415426039808</td>\n",
       "      <td>2014-12-31 09:26:22+00:00</td>\n",
       "      <td>Ebola screening tests under scrutiny http://bb...</td>\n",
       "      <td>bbchealth</td>\n",
       "      <td>Ebola screening tests under scrutiny</td>\n",
       "      <td>2014</td>\n",
       "    </tr>\n",
       "    <tr>\n",
       "      <th>2</th>\n",
       "      <td>550193117714849793</td>\n",
       "      <td>2014-12-31 07:33:56+00:00</td>\n",
       "      <td>VIDEO: UK Ebola screening under scrutiny http:...</td>\n",
       "      <td>bbchealth</td>\n",
       "      <td>VIDEO: UK Ebola screening under scrutiny</td>\n",
       "      <td>2014</td>\n",
       "    </tr>\n",
       "    <tr>\n",
       "      <th>3</th>\n",
       "      <td>550071243576074240</td>\n",
       "      <td>2014-12-30 23:29:38+00:00</td>\n",
       "      <td>Frontline NHS staff given honours http://bbc.i...</td>\n",
       "      <td>bbchealth</td>\n",
       "      <td>Frontline NHS staff given honours</td>\n",
       "      <td>2014</td>\n",
       "    </tr>\n",
       "    <tr>\n",
       "      <th>4</th>\n",
       "      <td>549985974650798081</td>\n",
       "      <td>2014-12-30 17:50:49+00:00</td>\n",
       "      <td>Plasma treatment for UK Ebola patient http://b...</td>\n",
       "      <td>bbchealth</td>\n",
       "      <td>Plasma treatment for UK Ebola patient</td>\n",
       "      <td>2014</td>\n",
       "    </tr>\n",
       "  </tbody>\n",
       "</table>\n",
       "</div>"
      ],
      "text/plain": [
       "               Number                  Date_Time  \\\n",
       "0  550314934601383936  2014-12-31 15:37:59+00:00   \n",
       "1  550221415426039808  2014-12-31 09:26:22+00:00   \n",
       "2  550193117714849793  2014-12-31 07:33:56+00:00   \n",
       "3  550071243576074240  2014-12-30 23:29:38+00:00   \n",
       "4  549985974650798081  2014-12-30 17:50:49+00:00   \n",
       "\n",
       "                                                info     source  \\\n",
       "0  Experimental drug for UK Ebola nurse http://bb...  bbchealth   \n",
       "1  Ebola screening tests under scrutiny http://bb...  bbchealth   \n",
       "2  VIDEO: UK Ebola screening under scrutiny http:...  bbchealth   \n",
       "3  Frontline NHS staff given honours http://bbc.i...  bbchealth   \n",
       "4  Plasma treatment for UK Ebola patient http://b...  bbchealth   \n",
       "\n",
       "                             Core_info_final  year  \n",
       "0      Experimental drug for UK Ebola nurse   2014  \n",
       "1      Ebola screening tests under scrutiny   2014  \n",
       "2  VIDEO: UK Ebola screening under scrutiny   2014  \n",
       "3         Frontline NHS staff given honours   2014  \n",
       "4     Plasma treatment for UK Ebola patient   2014  "
      ]
     },
     "execution_count": 8,
     "metadata": {},
     "output_type": "execute_result"
    }
   ],
   "source": [
    "twitter_health.head(5)"
   ]
  },
  {
   "cell_type": "code",
   "execution_count": 9,
   "id": "fb1ad9f5-ac50-426e-bd48-ab0ac4bc8cd3",
   "metadata": {},
   "outputs": [
    {
     "data": {
      "text/plain": [
       "(25995, 6)"
      ]
     },
     "execution_count": 9,
     "metadata": {},
     "output_type": "execute_result"
    }
   ],
   "source": [
    "twitter_health.shape"
   ]
  },
  {
   "cell_type": "markdown",
   "id": "14fa16f0-65b1-4705-8638-eed7495fb8ee",
   "metadata": {},
   "source": [
    "## Step 1: NLP Text Processing\n",
    "#### Tokenization, POS tagging, normalization, stemming and lemmatization"
   ]
  },
  {
   "cell_type": "raw",
   "id": "adff9704-c37d-4ad2-86f2-a41489d77c9a",
   "metadata": {},
   "source": [
    "Tokenization is the process of breaking down the given text in natural language processing into the smallest unit in a sentence called a token. Punctuation marks, words, and numbers can be considered tokens.\n",
    "\n",
    "Part of Speech Tagging (POS-Tag) is the labeling of the words in a text according to their word types (noun, adjective, adverb, verb, etc.). \n",
    "\n",
    "Normalization is removing all unnecessary characters from the text (punctuation, stopwords, spaces, characters, etc).\n",
    "\n",
    "Stemming is the process of finding the root of words. With stemming, words are reduced to their word stems. A word stem sometimes is just an equal to or smaller form of the word.\n",
    "\n",
    "Lemmatization is the process of finding the form of the related word in the dictionary.As opposed to stemming, lemmatization does not simply chop off inflections. Instead, it uses lexical knowledge bases to get the correct base forms of words."
   ]
  },
  {
   "cell_type": "markdown",
   "id": "07efdaf0-568a-4ad0-9f03-70e756ad41b8",
   "metadata": {},
   "source": [
    "#### Adding the tweets' text to list for further processing"
   ]
  },
  {
   "cell_type": "code",
   "execution_count": 10,
   "id": "01776ef2",
   "metadata": {},
   "outputs": [
    {
     "name": "stdout",
     "output_type": "stream",
     "text": [
      "25995\n",
      "['Experimental drug for UK Ebola nurse ', 'Ebola screening tests under scrutiny ', 'VIDEO: UK Ebola screening under scrutiny ', 'Frontline NHS staff given honours ', 'Plasma treatment for UK Ebola patient ', 'First Ebola case linked to bat play ', 'VIDEO: How trials helped patients in 2014 ', 'Ebola patient arrives in London ', 'Are we too obsessed with NHS targets? ', 'Prescription fraud plan criticised ']\n"
     ]
    }
   ],
   "source": [
    "col_list = twitter_health.Core_info_final.values.tolist()\n",
    "#print(col_list)\n",
    "print(len(col_list))\n",
    "print(col_list [:10])\n",
    "col_list[0] += \"52\""
   ]
  },
  {
   "cell_type": "markdown",
   "id": "66b2be74-0859-4033-986d-8494b1e22bcb",
   "metadata": {},
   "source": [
    "#### Removing punctutation, strip, lowercaseing"
   ]
  },
  {
   "cell_type": "code",
   "execution_count": 11,
   "id": "2f6def92",
   "metadata": {},
   "outputs": [],
   "source": [
    "new_list = []\n",
    "\n",
    "for s in col_list:\n",
    "    tmp = \"\"\n",
    "    for el in s:\n",
    "        if el in string.printable and el not in string.digits and el not in string.punctuation:\n",
    "                tmp += el\n",
    "    if len(tmp) > 0:\n",
    "        new_list.append(tmp.strip().lower())"
   ]
  },
  {
   "cell_type": "code",
   "execution_count": 12,
   "id": "2df198e8-74b8-435e-9a39-92784b2bb322",
   "metadata": {},
   "outputs": [
    {
     "name": "stdout",
     "output_type": "stream",
     "text": [
      "['experimental drug for uk ebola nurse', 'ebola screening tests under scrutiny', 'video uk ebola screening under scrutiny', 'frontline nhs staff given honours', 'plasma treatment for uk ebola patient', 'first ebola case linked to bat play', 'video how trials helped patients in', 'ebola patient arrives in london', 'are we too obsessed with nhs targets', 'prescription fraud plan criticised', 'video ebola patient to be flown to london', 'ebola case confirmed in glasgow', 'righttodie campaigner purdy dies', 'video smoking rots you from the inside', 'video robotassisted surgery gains ground', 'smoking rot highlighted in campaign', 'target drunks aampe boss urges police', 'why are so many drinks flavoured with honey', 'ebola how does it compare', 'whooping cough virus evolving fast']\n"
     ]
    }
   ],
   "source": [
    "print(new_list[:20])"
   ]
  },
  {
   "cell_type": "code",
   "execution_count": 13,
   "id": "022e666d",
   "metadata": {},
   "outputs": [],
   "source": [
    "col_list = new_list"
   ]
  },
  {
   "cell_type": "code",
   "execution_count": 14,
   "id": "703d6659",
   "metadata": {},
   "outputs": [
    {
     "name": "stdout",
     "output_type": "stream",
     "text": [
      "['experimental drug for uk ebola nurse', 'ebola screening tests under scrutiny', 'video uk ebola screening under scrutiny', 'frontline nhs staff given honours', 'plasma treatment for uk ebola patient', 'first ebola case linked to bat play', 'video how trials helped patients in', 'ebola patient arrives in london', 'are we too obsessed with nhs targets', 'prescription fraud plan criticised']\n",
      "['experimental drug for uk ebola nurse', 'ebola screening tests under scrutiny', 'video uk ebola screening under scrutiny', 'frontline nhs staff given honours', 'plasma treatment for uk ebola patient', 'first ebola case linked to bat play', 'video how trials helped patients in', 'ebola patient arrives in london', 'are we too obsessed with nhs targets', 'prescription fraud plan criticised']\n"
     ]
    }
   ],
   "source": [
    "print(new_list[:10])\n",
    "print(col_list[:10])"
   ]
  },
  {
   "cell_type": "markdown",
   "id": "06510646-9b99-4aca-b4bb-84c784f02bc0",
   "metadata": {},
   "source": [
    "### TOKENIZATION"
   ]
  },
  {
   "cell_type": "code",
   "execution_count": 15,
   "id": "803b6d3a",
   "metadata": {},
   "outputs": [],
   "source": [
    "tokenizer = WordPunctTokenizer()"
   ]
  },
  {
   "cell_type": "code",
   "execution_count": 16,
   "id": "ae9017a5",
   "metadata": {},
   "outputs": [
    {
     "name": "stdout",
     "output_type": "stream",
     "text": [
      "col_list tokenized: [['experimental', 'drug', 'for', 'uk', 'ebola', 'nurse'], ['ebola', 'screening', 'tests', 'under', 'scrutiny'], ['video', 'uk', 'ebola', 'screening', 'under', 'scrutiny'], ['frontline', 'nhs', 'staff', 'given', 'honours'], ['plasma', 'treatment', 'for', 'uk', 'ebola', 'patient'], ['first', 'ebola', 'case', 'linked', 'to', 'bat', 'play'], ['video', 'how', 'trials', 'helped', 'patients', 'in'], ['ebola', 'patient', 'arrives', 'in', 'london'], ['are', 'we', 'too', 'obsessed', 'with', 'nhs', 'targets'], ['prescription', 'fraud', 'plan', 'criticised']]\n",
      "-------\n",
      "col_list: ['experimental drug for uk ebola nurse', 'ebola screening tests under scrutiny', 'video uk ebola screening under scrutiny', 'frontline nhs staff given honours', 'plasma treatment for uk ebola patient', 'first ebola case linked to bat play', 'video how trials helped patients in', 'ebola patient arrives in london', 'are we too obsessed with nhs targets', 'prescription fraud plan criticised']\n",
      "25995\n"
     ]
    }
   ],
   "source": [
    "col_list_tokenized = [tokenizer.tokenize(el) for el in col_list]\n",
    "print('col_list tokenized:', col_list_tokenized[:10])\n",
    "#col_list = WordPunctTokenizer().tokenize(col_list)\n",
    "print('-------')\n",
    "print('col_list:',col_list[:10])\n",
    "print(len(col_list))"
   ]
  },
  {
   "cell_type": "markdown",
   "id": "c749929b-9171-42f7-808d-6a817b837f84",
   "metadata": {},
   "source": [
    "### Part-of-speech tagging (POS tagging)"
   ]
  },
  {
   "cell_type": "code",
   "execution_count": 17,
   "id": "f3d7f205-0239-404b-84bc-d2be40cc9c53",
   "metadata": {},
   "outputs": [],
   "source": [
    "col_list_postagged = nltk.pos_tag_sents(col_list_tokenized)"
   ]
  },
  {
   "cell_type": "code",
   "execution_count": 18,
   "id": "7ee47e92-d12c-4868-ac0c-5aaa59b8db1f",
   "metadata": {},
   "outputs": [
    {
     "name": "stdout",
     "output_type": "stream",
     "text": [
      "[[('experimental', 'JJ'), ('drug', 'NN'), ('for', 'IN'), ('uk', 'JJ'), ('ebola', 'NN'), ('nurse', 'NN')], [('ebola', 'NN'), ('screening', 'VBG'), ('tests', 'NNS'), ('under', 'IN'), ('scrutiny', 'NN')], [('video', 'NN'), ('uk', 'JJ'), ('ebola', 'NN'), ('screening', 'VBG'), ('under', 'IN'), ('scrutiny', 'NN')], [('frontline', 'JJ'), ('nhs', 'JJ'), ('staff', 'NN'), ('given', 'VBN'), ('honours', 'NNS')], [('plasma', 'NN'), ('treatment', 'NN'), ('for', 'IN'), ('uk', 'JJ'), ('ebola', 'NN'), ('patient', 'NN')], [('first', 'RB'), ('ebola', 'JJ'), ('case', 'NN'), ('linked', 'VBD'), ('to', 'TO'), ('bat', 'VB'), ('play', 'NN')], [('video', 'NN'), ('how', 'WRB'), ('trials', 'NNS'), ('helped', 'VBD'), ('patients', 'NNS'), ('in', 'IN')], [('ebola', 'JJ'), ('patient', 'NN'), ('arrives', 'VBZ'), ('in', 'IN'), ('london', 'NN')], [('are', 'VBP'), ('we', 'PRP'), ('too', 'RB'), ('obsessed', 'VBD'), ('with', 'IN'), ('nhs', 'JJ'), ('targets', 'NNS')], [('prescription', 'NN'), ('fraud', 'NN'), ('plan', 'NN'), ('criticised', 'VBD')]]\n"
     ]
    }
   ],
   "source": [
    "print(col_list_postagged[:10])"
   ]
  },
  {
   "cell_type": "code",
   "execution_count": 19,
   "id": "0b1e29ab-4f7c-4b5c-b3c6-4439c299bae1",
   "metadata": {},
   "outputs": [],
   "source": [
    "def get_minimal_pos_tag(raw_tag: str ) -> str:\n",
    "  if raw_tag.startswith(\"N\"):\n",
    "    return 'n'\n",
    "  if raw_tag.startswith(\"V\"):\n",
    "    return 'v'\n",
    "  if raw_tag.startswith(\"J\"):\n",
    "    return 'a'\n",
    "  return None"
   ]
  },
  {
   "cell_type": "markdown",
   "id": "ee721341-9f19-439e-bb76-525d4f85f705",
   "metadata": {},
   "source": [
    "### LEMMATIZATION"
   ]
  },
  {
   "cell_type": "code",
   "execution_count": 20,
   "id": "8d3f4aaf",
   "metadata": {},
   "outputs": [],
   "source": [
    "list_tweets = []\n",
    "for el in col_list_postagged:\n",
    "    tweet = []\n",
    "    for i in el:\n",
    "        if get_minimal_pos_tag(i[1]) is not None:\n",
    "            t = WordNetLemmatizer().lemmatize(i[0],pos=get_minimal_pos_tag(i[1]))  \n",
    "            tweet.append(t)\n",
    "        else:\n",
    "            t = WordNetLemmatizer().lemmatize(i[0])\n",
    "            tweet.append(t)\n",
    "    list_tweets.append(tweet)"
   ]
  },
  {
   "cell_type": "code",
   "execution_count": 21,
   "id": "9dbb4662-f28a-479c-a052-7b92bf9bdbe3",
   "metadata": {},
   "outputs": [
    {
     "data": {
      "text/plain": [
       "[['experimental', 'drug', 'for', 'uk', 'ebola', 'nurse'],\n",
       " ['ebola', 'screen', 'test', 'under', 'scrutiny'],\n",
       " ['video', 'uk', 'ebola', 'screen', 'under', 'scrutiny'],\n",
       " ['frontline', 'nhs', 'staff', 'give', 'honour'],\n",
       " ['plasma', 'treatment', 'for', 'uk', 'ebola', 'patient'],\n",
       " ['first', 'ebola', 'case', 'link', 'to', 'bat', 'play'],\n",
       " ['video', 'how', 'trial', 'help', 'patient', 'in'],\n",
       " ['ebola', 'patient', 'arrive', 'in', 'london'],\n",
       " ['be', 'we', 'too', 'obsess', 'with', 'nhs', 'target'],\n",
       " ['prescription', 'fraud', 'plan', 'criticise']]"
      ]
     },
     "metadata": {},
     "output_type": "display_data"
    }
   ],
   "source": [
    "display(list_tweets[:10])"
   ]
  },
  {
   "cell_type": "markdown",
   "id": "a93d714b-6b95-48c4-bc39-eea2d684eea5",
   "metadata": {},
   "source": [
    "### Stop words removal"
   ]
  },
  {
   "cell_type": "code",
   "execution_count": 22,
   "id": "eb19559a-281a-4dca-a7dd-25fea08bc230",
   "metadata": {},
   "outputs": [],
   "source": [
    "stop_words1 = stopwords.words('english') \n",
    "stop_words1.extend(['good', 'today', 'way', 'day', 'healthy', 'healthtalk', 'find', 'make', 'risk', 'report', 'video', 'audio', 'health', 'hospital', 'study','may','say','help','patient','doctor', 'hospital', 'new','rt','u', 'amp', 'q', 'nh', 'nhs','gdnhealthcare', 'w', 'pm', 'gt', 'c', 'dr', 'wsj', 'er', 'gp', 'b', 'k', 'pharmalittle', 'va', 'gop', 'mt', 'hn', 'st', 'healthtotalwellness', 'la', 'hhs', 'ab', 'th',  'cnn', 'goodhealth', 'cynthiasass', 'faq', 'live', 'chat', 'well', 'lauralandrowsj', 'stefanei', 'pharmalot', 'may', 'thing', 'new', 'try', 'show', 'get', 'say', 'one', 'case', 'ask', 'well', 'woman']) \n",
    "# case ask well woman\n",
    " \n",
    "list_cleaned_stopwords = []\n",
    "for el in list_tweets:\n",
    "    single_tweet = []\n",
    "    for i in el:\n",
    "        if i not in stop_words1:\n",
    "            single_tweet.append(i)\n",
    "        else:\n",
    "            continue\n",
    "    list_cleaned_stopwords.append(single_tweet)"
   ]
  },
  {
   "cell_type": "code",
   "execution_count": 23,
   "id": "161797c0-9492-43c7-9a50-922e37d66aee",
   "metadata": {},
   "outputs": [
    {
     "data": {
      "text/plain": [
       "[['experimental', 'drug', 'uk', 'ebola', 'nurse'],\n",
       " ['ebola', 'screen', 'test', 'scrutiny'],\n",
       " ['uk', 'ebola', 'screen', 'scrutiny'],\n",
       " ['frontline', 'staff', 'give', 'honour'],\n",
       " ['plasma', 'treatment', 'uk', 'ebola'],\n",
       " ['first', 'ebola', 'link', 'bat', 'play'],\n",
       " ['trial'],\n",
       " ['ebola', 'arrive', 'london'],\n",
       " ['obsess', 'target'],\n",
       " ['prescription', 'fraud', 'plan', 'criticise']]"
      ]
     },
     "metadata": {},
     "output_type": "display_data"
    }
   ],
   "source": [
    "display(list_cleaned_stopwords[:10])"
   ]
  },
  {
   "cell_type": "markdown",
   "id": "c33cda32-0eab-40f3-8851-7ad8a90677a6",
   "metadata": {},
   "source": [
    "### Text cleaning example"
   ]
  },
  {
   "cell_type": "code",
   "execution_count": 24,
   "id": "b1dfc6e1",
   "metadata": {},
   "outputs": [
    {
     "name": "stdout",
     "output_type": "stream",
     "text": [
      "Preprocessed tweet: VIDEO: How trials helped patients in 2014 \n",
      "  \n",
      "Removed punctuation, strip, lowering: video how trials helped patients in\n",
      "  \n",
      "After tokenization: ['video', 'how', 'trials', 'helped', 'patients', 'in']\n",
      "  \n",
      "After Part-of-speech tagging: [('video', 'NN'), ('how', 'WRB'), ('trials', 'NNS'), ('helped', 'VBD'), ('patients', 'NNS'), ('in', 'IN')]\n",
      "  \n",
      "After lemmatization: ['video', 'how', 'trial', 'help', 'patient', 'in']\n",
      "  \n",
      "After stop words removal: ['trial']\n"
     ]
    }
   ],
   "source": [
    "print('Preprocessed tweet:', twitter_health['Core_info_final'][6])\n",
    "print('  ')\n",
    "print('Removed punctuation, strip, lowering:', col_list[6])\n",
    "print('  ')\n",
    "print('After tokenization:', col_list_tokenized[6])\n",
    "print('  ')\n",
    "print('After Part-of-speech tagging:', col_list_postagged[6])\n",
    "print('  ')\n",
    "print('After lemmatization:', list_tweets[6])\n",
    "print('  ')\n",
    "print('After stop words removal:', list_cleaned_stopwords[6])"
   ]
  },
  {
   "cell_type": "markdown",
   "id": "2b660a97-216b-49e8-bb7a-2ec13be3aa15",
   "metadata": {},
   "source": [
    "#### Returning to list of strings (previously a list of lists)"
   ]
  },
  {
   "cell_type": "code",
   "execution_count": 25,
   "id": "763ec9ca-0325-4f77-b55b-fa08d08d24ff",
   "metadata": {},
   "outputs": [
    {
     "name": "stdout",
     "output_type": "stream",
     "text": [
      "['experimental drug uk ebola nurse', 'ebola screen test scrutiny', 'uk ebola screen scrutiny', 'frontline staff give honour', 'plasma treatment uk ebola', 'first ebola link bat play', 'trial', 'ebola arrive london', 'obsess target', 'prescription fraud plan criticise']\n"
     ]
    }
   ],
   "source": [
    "list_of_strings = []\n",
    "for element in list_cleaned_stopwords:  \n",
    "    str1 = \"\" \n",
    "    for ele in element:\n",
    "        str1 += ele + ' '\n",
    "    list_of_strings.append(str1.strip())\n",
    "print(list_of_strings[:10])"
   ]
  },
  {
   "cell_type": "code",
   "execution_count": 26,
   "id": "17883260-f46e-4509-b4bc-4bdcab87bd08",
   "metadata": {},
   "outputs": [
    {
     "data": {
      "text/plain": [
       "25995"
      ]
     },
     "execution_count": 26,
     "metadata": {},
     "output_type": "execute_result"
    }
   ],
   "source": [
    "len(list_of_strings)"
   ]
  },
  {
   "cell_type": "markdown",
   "id": "da26d86a-9dd5-4faa-8fe6-1b1039576a38",
   "metadata": {},
   "source": [
    "### Word count"
   ]
  },
  {
   "cell_type": "code",
   "execution_count": 27,
   "id": "7a55544f-e352-43be-8721-cc36282e4e4a",
   "metadata": {},
   "outputs": [
    {
     "name": "stdout",
     "output_type": "stream",
     "text": [
      "        words   cnt\n",
      "0       ebola  3754\n",
      "1        drug  1195\n",
      "2      cancer   909\n",
      "3        care   780\n",
      "4   stefaniei   715\n",
      "5        test   536\n",
      "6       death   528\n",
      "7      people   521\n",
      "8        year   505\n",
      "9        food   504\n",
      "10      could   499\n",
      "11        use   473\n",
      "12       need   458\n",
      "13       plan   445\n",
      "14   outbreak   442\n",
      "15       take   440\n",
      "16        law   430\n",
      "17        fda   428\n",
      "18       work   428\n",
      "19    medical   422\n",
      "20       dont   414\n",
      "21        kid   405\n",
      "22        see   403\n",
      "23       life   400\n",
      "24         go   396\n",
      "25      fight   387\n",
      "26    disease   372\n",
      "27       know   370\n",
      "28  treatment   367\n",
      "29       time   363\n"
     ]
    }
   ],
   "source": [
    "joint_phrases = \"\"\n",
    "for phrase in list_of_strings:\n",
    "    joint_phrases += \" \" + phrase\n",
    "word_count_df = pd.DataFrame(pd.DataFrame(joint_phrases.split(\" \")).value_counts(), columns=['cnt'], dtype=str).reset_index().rename(columns={0:'words'})\n",
    "#word_count_df = word_count_df.loc[(~word_count_df['words'].str.strip().isin(stop_words)) & (~word_count_df['words'].str.strip().isin(list(punctuation)))]\n",
    "pd.options.display.max_rows=100\n",
    "print(word_count_df.iloc[:30, :])\n",
    "#print(word_count_df.iloc[900 : 1000])"
   ]
  },
  {
   "cell_type": "code",
   "execution_count": 28,
   "id": "53d8b812-5bf3-4dc9-8aad-dc94183253f7",
   "metadata": {},
   "outputs": [
    {
     "data": {
      "text/html": [
       "<div>\n",
       "<style scoped>\n",
       "    .dataframe tbody tr th:only-of-type {\n",
       "        vertical-align: middle;\n",
       "    }\n",
       "\n",
       "    .dataframe tbody tr th {\n",
       "        vertical-align: top;\n",
       "    }\n",
       "\n",
       "    .dataframe thead th {\n",
       "        text-align: right;\n",
       "    }\n",
       "</style>\n",
       "<table border=\"1\" class=\"dataframe\">\n",
       "  <thead>\n",
       "    <tr style=\"text-align: right;\">\n",
       "      <th></th>\n",
       "      <th>words</th>\n",
       "      <th>cnt</th>\n",
       "    </tr>\n",
       "  </thead>\n",
       "  <tbody>\n",
       "    <tr>\n",
       "      <th>0</th>\n",
       "      <td>ebola</td>\n",
       "      <td>3754</td>\n",
       "    </tr>\n",
       "    <tr>\n",
       "      <th>1</th>\n",
       "      <td>drug</td>\n",
       "      <td>1195</td>\n",
       "    </tr>\n",
       "    <tr>\n",
       "      <th>2</th>\n",
       "      <td>cancer</td>\n",
       "      <td>909</td>\n",
       "    </tr>\n",
       "    <tr>\n",
       "      <th>3</th>\n",
       "      <td>care</td>\n",
       "      <td>780</td>\n",
       "    </tr>\n",
       "    <tr>\n",
       "      <th>4</th>\n",
       "      <td>stefaniei</td>\n",
       "      <td>715</td>\n",
       "    </tr>\n",
       "    <tr>\n",
       "      <th>...</th>\n",
       "      <td>...</td>\n",
       "      <td>...</td>\n",
       "    </tr>\n",
       "    <tr>\n",
       "      <th>17311</th>\n",
       "      <td>irishhospice</td>\n",
       "      <td>1</td>\n",
       "    </tr>\n",
       "    <tr>\n",
       "      <th>17312</th>\n",
       "      <td>irishinspired</td>\n",
       "      <td>1</td>\n",
       "    </tr>\n",
       "    <tr>\n",
       "      <th>17313</th>\n",
       "      <td>irk</td>\n",
       "      <td>1</td>\n",
       "    </tr>\n",
       "    <tr>\n",
       "      <th>17314</th>\n",
       "      <td>ironclad</td>\n",
       "      <td>1</td>\n",
       "    </tr>\n",
       "    <tr>\n",
       "      <th>17315</th>\n",
       "      <td>zzzzz</td>\n",
       "      <td>1</td>\n",
       "    </tr>\n",
       "  </tbody>\n",
       "</table>\n",
       "<p>17316 rows × 2 columns</p>\n",
       "</div>"
      ],
      "text/plain": [
       "               words   cnt\n",
       "0              ebola  3754\n",
       "1               drug  1195\n",
       "2             cancer   909\n",
       "3               care   780\n",
       "4          stefaniei   715\n",
       "...              ...   ...\n",
       "17311   irishhospice     1\n",
       "17312  irishinspired     1\n",
       "17313            irk     1\n",
       "17314       ironclad     1\n",
       "17315          zzzzz     1\n",
       "\n",
       "[17316 rows x 2 columns]"
      ]
     },
     "execution_count": 28,
     "metadata": {},
     "output_type": "execute_result"
    }
   ],
   "source": [
    "word_count_df"
   ]
  },
  {
   "cell_type": "code",
   "execution_count": 29,
   "id": "bac929db-2c62-4cd7-9ac4-821492819b00",
   "metadata": {},
   "outputs": [],
   "source": [
    "word_count_df_20 = word_count_df.iloc[:20]"
   ]
  },
  {
   "cell_type": "code",
   "execution_count": 30,
   "id": "8b5b95cb-4154-4dcb-bf7f-3fba4ca85599",
   "metadata": {},
   "outputs": [
    {
     "name": "stdout",
     "output_type": "stream",
     "text": [
      "<class 'pandas.core.frame.DataFrame'>\n",
      "RangeIndex: 20 entries, 0 to 19\n",
      "Data columns (total 2 columns):\n",
      " #   Column  Non-Null Count  Dtype \n",
      "---  ------  --------------  ----- \n",
      " 0   words   20 non-null     object\n",
      " 1   cnt     20 non-null     object\n",
      "dtypes: object(2)\n",
      "memory usage: 448.0+ bytes\n"
     ]
    }
   ],
   "source": [
    "word_count_df_20.info()"
   ]
  },
  {
   "cell_type": "code",
   "execution_count": 31,
   "id": "a13ae0f4-0b85-40b4-a535-b678294dde1a",
   "metadata": {},
   "outputs": [],
   "source": [
    "word_count_df_20.loc[:,('cnt')] = word_count_df_20['cnt'].astype('int') "
   ]
  },
  {
   "cell_type": "code",
   "execution_count": 32,
   "id": "aa7abf1d-eed0-4ae2-8345-3bbf7152f94e",
   "metadata": {},
   "outputs": [
    {
     "name": "stdout",
     "output_type": "stream",
     "text": [
      "<class 'pandas.core.frame.DataFrame'>\n",
      "RangeIndex: 20 entries, 0 to 19\n",
      "Data columns (total 2 columns):\n",
      " #   Column  Non-Null Count  Dtype \n",
      "---  ------  --------------  ----- \n",
      " 0   words   20 non-null     object\n",
      " 1   cnt     20 non-null     int32 \n",
      "dtypes: int32(1), object(1)\n",
      "memory usage: 368.0+ bytes\n"
     ]
    }
   ],
   "source": [
    "word_count_df_20.info()"
   ]
  },
  {
   "cell_type": "code",
   "execution_count": 33,
   "id": "0d19c6e9-d852-43a6-b042-0ef2b742b6c2",
   "metadata": {},
   "outputs": [
    {
     "data": {
      "text/plain": [
       "<AxesSubplot: title={'center': 'Most frequent terms'}, ylabel='Terms'>"
      ]
     },
     "execution_count": 33,
     "metadata": {},
     "output_type": "execute_result"
    },
    {
     "data": {
      "image/png": "[encoded data removed]",
      "text/plain": [
       "<Figure size 1080x576 with 1 Axes>"
      ]
     },
     "metadata": {
      "needs_background": "light"
     },
     "output_type": "display_data"
    }
   ],
   "source": [
    "#word_count_df_20.plot(kind='bar',x='words',y='cnt',figsize=(15,8))\n",
    "\n",
    "word_count_df_20.sort_values(by=['cnt'], ascending=True).plot(kind='barh', x='words',y='cnt', \n",
    "                      title = 'Most frequent terms', xlabel = 'Terms', ylabel = 'Frequency', \n",
    "                      color = 'green', \n",
    "                      figsize=(15,8))"
   ]
  },
  {
   "cell_type": "markdown",
   "id": "73552c7f-6b1d-4666-9c94-c48a5c72dfaf",
   "metadata": {},
   "source": [
    "## Step 2: Applying Vector-space models (vectorization)\n",
    "#### Bag Of Words (BOW) and\n",
    "#### Term Frequency Inverse Document Frequency (TFIDF)"
   ]
  },
  {
   "cell_type": "raw",
   "id": "34ae72d8-1743-4d9a-9fb3-549561c8f4e0",
   "metadata": {},
   "source": [
    "BOW is an algorithm that counts how many times a word appears in a document. The word counts allow to compare documents/text and find their similarities for applications like search, document classification, and topic modeling.\n",
    "\n",
    "TFIDF is a numerical statistic that is intended to reflect how important a word is to a document in a collection or corpus. It counts the number of times each word appears in a document but also calculates the frequency that each word appears in a document out of all the words in the document."
   ]
  },
  {
   "cell_type": "markdown",
   "id": "d9f3b02c-3c4e-44b8-92e6-a520d284d323",
   "metadata": {},
   "source": [
    "### Bag of words"
   ]
  },
  {
   "cell_type": "markdown",
   "id": "35fd9246-c09f-4da3-b564-0f07fb479a00",
   "metadata": {},
   "source": [
    "#### Bag of words vector initialization"
   ]
  },
  {
   "cell_type": "code",
   "execution_count": 34,
   "id": "d55bb39a-768d-4d12-bf57-2d704cd2d73d",
   "metadata": {},
   "outputs": [
    {
     "data": {
      "text/plain": [
       "(25995, 320)"
      ]
     },
     "execution_count": 34,
     "metadata": {},
     "output_type": "execute_result"
    }
   ],
   "source": [
    "from sklearn.feature_extraction.text import CountVectorizer\n",
    "count_vect = CountVectorizer(\n",
    "                            ngram_range=(1, 3),\n",
    "                            analyzer='word',\n",
    "                            strip_accents = 'unicode',\n",
    "                            min_df=100\n",
    "                            )\n",
    "bow = count_vect.fit_transform(list_of_strings)\n",
    "bow.shape"
   ]
  },
  {
   "cell_type": "code",
   "execution_count": 35,
   "id": "829287b1-1041-4f5e-81ad-af1874aa16ce",
   "metadata": {},
   "outputs": [
    {
     "data": {
      "text/plain": [
       "<1x320 sparse matrix of type '<class 'numpy.int64'>'\n",
       "\twith 5 stored elements in Compressed Sparse Row format>"
      ]
     },
     "execution_count": 35,
     "metadata": {},
     "output_type": "execute_result"
    }
   ],
   "source": [
    "bow[0]"
   ]
  },
  {
   "cell_type": "code",
   "execution_count": 36,
   "id": "c8319981-9158-43fd-afb4-152e64d0f1af",
   "metadata": {},
   "outputs": [],
   "source": [
    "# to understand what kind of words generated as columns by BOW\n",
    "terms = count_vect.get_feature_names()"
   ]
  },
  {
   "cell_type": "code",
   "execution_count": 37,
   "id": "2054f243-d020-4fae-acb6-311b9e9ddea4",
   "metadata": {},
   "outputs": [
    {
     "data": {
      "text/plain": [
       "['aca',\n",
       " 'add',\n",
       " 'adult',\n",
       " 'affect',\n",
       " 'africa',\n",
       " 'age',\n",
       " 'age blog',\n",
       " 'aid',\n",
       " 'allergy']"
      ]
     },
     "execution_count": 37,
     "metadata": {},
     "output_type": "execute_result"
    }
   ],
   "source": [
    "#first 10 columns generated by BOW\n",
    "terms[1:10]"
   ]
  },
  {
   "cell_type": "markdown",
   "id": "08c2dcfa-f9ba-4522-ac03-6e7677473637",
   "metadata": {},
   "source": [
    "### TFIDF"
   ]
  },
  {
   "cell_type": "markdown",
   "id": "122e413a-b78f-4b41-9ac4-c424374b2f62",
   "metadata": {},
   "source": [
    "#### TFIDF vector initialization"
   ]
  },
  {
   "cell_type": "code",
   "execution_count": 38,
   "id": "cce5b8ad-80de-4320-9215-0cc734ba59ea",
   "metadata": {},
   "outputs": [
    {
     "data": {
      "text/plain": [
       "(25995, 320)"
      ]
     },
     "execution_count": 38,
     "metadata": {},
     "output_type": "execute_result"
    }
   ],
   "source": [
    "from sklearn.feature_extraction.text import TfidfVectorizer\n",
    "tfidf_vect = TfidfVectorizer(\n",
    "                            ngram_range=(1,3),\n",
    "                            analyzer='word',\n",
    "                            strip_accents = 'unicode',\n",
    "                            min_df=100\n",
    "                            )\n",
    "tfidf = tfidf_vect.fit_transform(list_of_strings)\n",
    "tfidf.shape"
   ]
  },
  {
   "cell_type": "code",
   "execution_count": 39,
   "id": "23225bb5-d1c5-444f-a345-21ddda3fed39",
   "metadata": {},
   "outputs": [],
   "source": [
    "# to understand what kind of words generated as columns by BOW\n",
    "terms1 = tfidf_vect.get_feature_names()"
   ]
  },
  {
   "cell_type": "code",
   "execution_count": 40,
   "id": "f81d3cb6-c62b-4b89-a85f-7a482f924def",
   "metadata": {},
   "outputs": [
    {
     "data": {
      "text/plain": [
       "['aca',\n",
       " 'add',\n",
       " 'adult',\n",
       " 'affect',\n",
       " 'africa',\n",
       " 'age',\n",
       " 'age blog',\n",
       " 'aid',\n",
       " 'allergy']"
      ]
     },
     "execution_count": 40,
     "metadata": {},
     "output_type": "execute_result"
    }
   ],
   "source": [
    "terms1[1:10]"
   ]
  },
  {
   "cell_type": "markdown",
   "id": "795ef93a-f676-4ec1-8efa-8d9dc2f71106",
   "metadata": {},
   "source": [
    "### Doc2Vec Computing Similarity"
   ]
  },
  {
   "cell_type": "raw",
   "id": "78603bb6-345b-4713-a8a9-d19bcca29e5b",
   "metadata": {},
   "source": [
    "Doc2vec is an unsupervised machine learning algorithm that is used to convert a document to a vector. "
   ]
  },
  {
   "cell_type": "code",
   "execution_count": 41,
   "id": "879246e5-145b-4dba-bcab-78b193731110",
   "metadata": {},
   "outputs": [],
   "source": [
    "from tqdm import tqdm\n",
    "tqdm.pandas(desc=\"progress-bar\")\n",
    "from gensim.models import Doc2Vec\n",
    "from sklearn import utils\n",
    "from sklearn.model_selection import train_test_split\n",
    "import gensim\n",
    "#from sklearn.linear_model import LogisticRegression\n",
    "from gensim.models.doc2vec import TaggedDocument"
   ]
  },
  {
   "cell_type": "code",
   "execution_count": 42,
   "id": "a32abd36-d1aa-44b3-9178-f6d02ced6b1b",
   "metadata": {},
   "outputs": [],
   "source": [
    "from gensim.test.utils import common_texts\n",
    "from gensim.models.doc2vec import Doc2Vec, TaggedDocument\n",
    "from nltk.tokenize import word_tokenize"
   ]
  },
  {
   "cell_type": "code",
   "execution_count": 43,
   "id": "461506d0-4dec-49a9-af60-397c86eacd94",
   "metadata": {},
   "outputs": [],
   "source": [
    "# tagging the data\n",
    "tagged_data = [TaggedDocument(words=word_tokenize(_d.lower()), tags=[str(i)]) for i, _d in enumerate(list_of_strings)]"
   ]
  },
  {
   "cell_type": "code",
   "execution_count": 44,
   "id": "0b43171e-d716-4f1c-801a-b06b9e65b05a",
   "metadata": {},
   "outputs": [
    {
     "name": "stdout",
     "output_type": "stream",
     "text": [
      "[TaggedDocument(words=['experimental', 'drug', 'uk', 'ebola', 'nurse'], tags=['0']), TaggedDocument(words=['ebola', 'screen', 'test', 'scrutiny'], tags=['1']), TaggedDocument(words=['uk', 'ebola', 'screen', 'scrutiny'], tags=['2']), TaggedDocument(words=['frontline', 'staff', 'give', 'honour'], tags=['3']), TaggedDocument(words=['plasma', 'treatment', 'uk', 'ebola'], tags=['4']), TaggedDocument(words=['first', 'ebola', 'link', 'bat', 'play'], tags=['5']), TaggedDocument(words=['trial'], tags=['6']), TaggedDocument(words=['ebola', 'arrive', 'london'], tags=['7']), TaggedDocument(words=['obsess', 'target'], tags=['8']), TaggedDocument(words=['prescription', 'fraud', 'plan', 'criticise'], tags=['9'])]\n"
     ]
    }
   ],
   "source": [
    "print(tagged_data[:10])"
   ]
  },
  {
   "cell_type": "code",
   "execution_count": 45,
   "id": "0094744f-ed41-4efa-8c7f-9887547103c4",
   "metadata": {},
   "outputs": [],
   "source": [
    "# Initializing doc2vec\n",
    "model_d2v = gensim.models.doc2vec.Doc2Vec(vector_size=30, min_count=2, epochs=30)"
   ]
  },
  {
   "cell_type": "code",
   "execution_count": 46,
   "id": "592273e1-8c1d-4c27-8702-4ee983316075",
   "metadata": {},
   "outputs": [],
   "source": [
    "# Building the vocabulary of tagged data\n",
    "model_d2v.build_vocab(tagged_data)"
   ]
  },
  {
   "cell_type": "code",
   "execution_count": 47,
   "id": "015912dc-9a67-4c9b-bd2d-d0ee104f968f",
   "metadata": {},
   "outputs": [],
   "source": [
    "# Training doc2vec\n",
    "model_d2v.train(tagged_data, total_examples=model_d2v.corpus_count, epochs=30)"
   ]
  },
  {
   "cell_type": "code",
   "execution_count": 48,
   "id": "56c96ca4-b109-40a2-affd-2fd1c93a0cac",
   "metadata": {},
   "outputs": [],
   "source": [
    "# After doc2vec has been trained, save the model\n",
    "model_d2v.save(\"d2v_health.model\")"
   ]
  },
  {
   "cell_type": "code",
   "execution_count": 49,
   "id": "973b8572-b651-4db7-9013-c85c3c2f7cdc",
   "metadata": {},
   "outputs": [],
   "source": [
    "# Calling the model\n",
    "model_d2v = Doc2Vec.load(\"d2v_health.model\")"
   ]
  },
  {
   "cell_type": "code",
   "execution_count": 50,
   "id": "1e103144-d09a-41e7-9ea2-f8700c3adec0",
   "metadata": {},
   "outputs": [
    {
     "name": "stdout",
     "output_type": "stream",
     "text": [
      "('435', 0.8780936598777771)\n"
     ]
    }
   ],
   "source": [
    "# Finding the most similar sentence using tags\n",
    "similar_doc = model_d2v.docvecs.most_similar(1)\n",
    "print(similar_doc[0])"
   ]
  },
  {
   "cell_type": "code",
   "execution_count": 51,
   "id": "15a14ec8-586a-4e18-b99d-a08369951b3b",
   "metadata": {},
   "outputs": [
    {
     "name": "stdout",
     "output_type": "stream",
     "text": [
      "('222', 0.9597722887992859)\n"
     ]
    }
   ],
   "source": [
    "# Finding the most similar sentence using tags\n",
    "similar_doc = model_d2v.docvecs.most_similar('71')\n",
    "print(similar_doc[0])"
   ]
  },
  {
   "cell_type": "code",
   "execution_count": 52,
   "id": "cdb13681-dc9b-4d8e-b8b3-b374e6d55977",
   "metadata": {},
   "outputs": [],
   "source": [
    "from scipy import spatial"
   ]
  },
  {
   "cell_type": "code",
   "execution_count": 53,
   "id": "0ec95ca2-eb8c-4f8e-a9dc-6edcfb09e19a",
   "metadata": {},
   "outputs": [],
   "source": [
    "result = 1 - spatial.distance.cosine(model_d2v[0], model_d2v[71]) "
   ]
  },
  {
   "cell_type": "code",
   "execution_count": 54,
   "id": "1ac967d9-53c0-4be2-adae-dad1a9c3f477",
   "metadata": {},
   "outputs": [
    {
     "data": {
      "text/plain": [
       "0.3691364824771881"
      ]
     },
     "execution_count": 54,
     "metadata": {},
     "output_type": "execute_result"
    }
   ],
   "source": [
    "result"
   ]
  },
  {
   "cell_type": "markdown",
   "id": "db036f4a-a4e0-48af-94f6-5ef7c010be01",
   "metadata": {},
   "source": [
    "## Step 3: Clustering"
   ]
  },
  {
   "cell_type": "markdown",
   "id": "d08a7b62-0daf-490d-95c6-989c7a944aaf",
   "metadata": {},
   "source": [
    "### Applying DBSCAN using BOW - determining number of clusters"
   ]
  },
  {
   "cell_type": "raw",
   "id": "424a3ef5-e03a-4150-a344-c69b2ecd7819",
   "metadata": {},
   "source": [
    "DBSCAN (Density-Based Spatial Clustering of Applications with Noise) is a data mining algorithm able to find arbitrary shaped clusters and clusters with noise (i.e. outliers). The main idea behind DBSCAN is that a point belongs to a cluster if it is close to many points from that cluster."
   ]
  },
  {
   "cell_type": "code",
   "execution_count": 55,
   "id": "6f8fefef-d423-4dc7-8758-020dc9d43653",
   "metadata": {},
   "outputs": [],
   "source": [
    "from sklearn.datasets import make_blobs\n",
    "from sklearn.cluster import DBSCAN"
   ]
  },
  {
   "cell_type": "code",
   "execution_count": 56,
   "id": "52e1d5d2-c1f2-4fec-9b30-4f136792086e",
   "metadata": {},
   "outputs": [
    {
     "name": "stdout",
     "output_type": "stream",
     "text": [
      "Estimated no. of clusters: 8\n",
      "Estimated no. of noise points: 23079\n"
     ]
    }
   ],
   "source": [
    "# Configuration options\n",
    "num_samples_total = 1000\n",
    "cluster_centers = [(3,3), (7,7)]\n",
    "num_classes = len(cluster_centers)\n",
    "epsilon = 0.1\n",
    "min_samples = 50\n",
    "\n",
    "# Generate data\n",
    "X, y = make_blobs(n_samples = num_samples_total, centers = cluster_centers, n_features = num_classes, center_box=(0, 1), cluster_std = 0.5)\n",
    "\n",
    "# Compute DBSCAN\n",
    "db_bow = DBSCAN(eps=epsilon, min_samples=min_samples).fit(bow)\n",
    "labels_dbscan_bow = db_bow.labels_\n",
    "\n",
    "no_clusters = len(np.unique(labels_dbscan_bow) )\n",
    "no_noise = np.sum(np.array(labels_dbscan_bow) == -1, axis=0)\n",
    "\n",
    "print('Estimated no. of clusters: %d' % no_clusters)\n",
    "print('Estimated no. of noise points: %d' % no_noise)"
   ]
  },
  {
   "cell_type": "markdown",
   "id": "2c44bdde-07a9-471c-92ad-c5c8d784b873",
   "metadata": {},
   "source": [
    "### Applying K-means clustering using BOW"
   ]
  },
  {
   "cell_type": "raw",
   "id": "101291e7-30f7-4b8e-b654-0c99106268c7",
   "metadata": {},
   "source": [
    "K-Means algorithm is an unsupervised learning algorithm. ‘K’ in the name of the algorithm represents the number of groups/clusters we want to classify our items into."
   ]
  },
  {
   "cell_type": "code",
   "execution_count": 57,
   "id": "05c62e9e-12f8-43d9-8bcb-d186d11beb4f",
   "metadata": {},
   "outputs": [],
   "source": [
    "clusters = 8"
   ]
  },
  {
   "cell_type": "code",
   "execution_count": 58,
   "id": "88b38e24-2675-4061-939e-4b186e870197",
   "metadata": {},
   "outputs": [
    {
     "data": {
      "text/html": [
       "<style>#sk-container-id-1 {color: black;background-color: white;}#sk-container-id-1 pre{padding: 0;}#sk-container-id-1 div.sk-toggleable {background-color: white;}#sk-container-id-1 label.sk-toggleable__label {cursor: pointer;display: block;width: 100%;margin-bottom: 0;padding: 0.3em;box-sizing: border-box;text-align: center;}#sk-container-id-1 label.sk-toggleable__label-arrow:before {content: \"▸\";float: left;margin-right: 0.25em;color: #696969;}#sk-container-id-1 label.sk-toggleable__label-arrow:hover:before {color: black;}#sk-container-id-1 div.sk-estimator:hover label.sk-toggleable__label-arrow:before {color: black;}#sk-container-id-1 div.sk-toggleable__content {max-height: 0;max-width: 0;overflow: hidden;text-align: left;background-color: #f0f8ff;}#sk-container-id-1 div.sk-toggleable__content pre {margin: 0.2em;color: black;border-radius: 0.25em;background-color: #f0f8ff;}#sk-container-id-1 input.sk-toggleable__control:checked~div.sk-toggleable__content {max-height: 200px;max-width: 100%;overflow: auto;}#sk-container-id-1 input.sk-toggleable__control:checked~label.sk-toggleable__label-arrow:before {content: \"▾\";}#sk-container-id-1 div.sk-estimator input.sk-toggleable__control:checked~label.sk-toggleable__label {background-color: #d4ebff;}#sk-container-id-1 div.sk-label input.sk-toggleable__control:checked~label.sk-toggleable__label {background-color: #d4ebff;}#sk-container-id-1 input.sk-hidden--visually {border: 0;clip: rect(1px 1px 1px 1px);clip: rect(1px, 1px, 1px, 1px);height: 1px;margin: -1px;overflow: hidden;padding: 0;position: absolute;width: 1px;}#sk-container-id-1 div.sk-estimator {font-family: monospace;background-color: #f0f8ff;border: 1px dotted black;border-radius: 0.25em;box-sizing: border-box;margin-bottom: 0.5em;}#sk-container-id-1 div.sk-estimator:hover {background-color: #d4ebff;}#sk-container-id-1 div.sk-parallel-item::after {content: \"\";width: 100%;border-bottom: 1px solid gray;flex-grow: 1;}#sk-container-id-1 div.sk-label:hover label.sk-toggleable__label {background-color: #d4ebff;}#sk-container-id-1 div.sk-serial::before {content: \"\";position: absolute;border-left: 1px solid gray;box-sizing: border-box;top: 0;bottom: 0;left: 50%;z-index: 0;}#sk-container-id-1 div.sk-serial {display: flex;flex-direction: column;align-items: center;background-color: white;padding-right: 0.2em;padding-left: 0.2em;position: relative;}#sk-container-id-1 div.sk-item {position: relative;z-index: 1;}#sk-container-id-1 div.sk-parallel {display: flex;align-items: stretch;justify-content: center;background-color: white;position: relative;}#sk-container-id-1 div.sk-item::before, #sk-container-id-1 div.sk-parallel-item::before {content: \"\";position: absolute;border-left: 1px solid gray;box-sizing: border-box;top: 0;bottom: 0;left: 50%;z-index: -1;}#sk-container-id-1 div.sk-parallel-item {display: flex;flex-direction: column;z-index: 1;position: relative;background-color: white;}#sk-container-id-1 div.sk-parallel-item:first-child::after {align-self: flex-end;width: 50%;}#sk-container-id-1 div.sk-parallel-item:last-child::after {align-self: flex-start;width: 50%;}#sk-container-id-1 div.sk-parallel-item:only-child::after {width: 0;}#sk-container-id-1 div.sk-dashed-wrapped {border: 1px dashed gray;margin: 0 0.4em 0.5em 0.4em;box-sizing: border-box;padding-bottom: 0.4em;background-color: white;}#sk-container-id-1 div.sk-label label {font-family: monospace;font-weight: bold;display: inline-block;line-height: 1.2em;}#sk-container-id-1 div.sk-label-container {text-align: center;}#sk-container-id-1 div.sk-container {/* jupyter's `normalize.less` sets `[hidden] { display: none; }` but bootstrap.min.css set `[hidden] { display: none !important; }` so we also need the `!important` here to be able to override the default hidden behavior on the sphinx rendered scikit-learn.org. See: https://github.com/scikit-learn/scikit-learn/issues/21755 */display: inline-block !important;position: relative;}#sk-container-id-1 div.sk-text-repr-fallback {display: none;}</style><div id=\"sk-container-id-1\" class=\"sk-top-container\"><div class=\"sk-text-repr-fallback\"><pre>KMeans(random_state=99)</pre><b>In a Jupyter environment, please rerun this cell to show the HTML representation or trust the notebook. <br />On GitHub, the HTML representation is unable to render, please try loading this page with nbviewer.org.</b></div><div class=\"sk-container\" hidden><div class=\"sk-item\"><div class=\"sk-estimator sk-toggleable\"><input class=\"sk-toggleable__control sk-hidden--visually\" id=\"sk-estimator-id-1\" type=\"checkbox\" checked><label for=\"sk-estimator-id-1\" class=\"sk-toggleable__label sk-toggleable__label-arrow\">KMeans</label><div class=\"sk-toggleable__content\"><pre>KMeans(random_state=99)</pre></div></div></div></div></div>"
      ],
      "text/plain": [
       "KMeans(random_state=99)"
      ]
     },
     "execution_count": 58,
     "metadata": {},
     "output_type": "execute_result"
    }
   ],
   "source": [
    "from sklearn.cluster import KMeans\n",
    "model = KMeans(n_clusters = clusters,init='k-means++', random_state=99)\n",
    "model.fit(bow)"
   ]
  },
  {
   "cell_type": "code",
   "execution_count": 59,
   "id": "6602f735-a1ef-47e8-97c1-f92a045b4829",
   "metadata": {},
   "outputs": [],
   "source": [
    "labels_k_bow = model.labels_\n",
    "cluster_center=model.cluster_centers_"
   ]
  },
  {
   "cell_type": "code",
   "execution_count": 60,
   "id": "d47f5c69-857c-4822-b8cd-a2020a7d5a12",
   "metadata": {},
   "outputs": [
    {
     "data": {
      "text/plain": [
       "array([[0.        , 0.01004016, 0.        , ..., 0.00401606, 0.06425703,\n",
       "        0.0060241 ],\n",
       "       [0.00157729, 0.00315457, 0.00473186, ..., 0.00157729, 0.0126183 ,\n",
       "        0.00473186],\n",
       "       [0.00650737, 0.00504972, 0.00452913, ..., 0.00338383, 0.00796502,\n",
       "        0.00687178],\n",
       "       ...,\n",
       "       [0.        , 0.        , 0.0017001 , ..., 0.02380143, 0.00102006,\n",
       "        0.00102006],\n",
       "       [0.        , 0.        , 0.00226244, ..., 0.00226244, 0.02036199,\n",
       "        0.00226244],\n",
       "       [0.        , 0.        , 0.005     , ..., 0.005     , 0.005     ,\n",
       "        0.01      ]])"
      ]
     },
     "execution_count": 60,
     "metadata": {},
     "output_type": "execute_result"
    }
   ],
   "source": [
    "cluster_center"
   ]
  },
  {
   "cell_type": "code",
   "execution_count": 61,
   "id": "63d57371-0b6d-4a94-a8f0-161ce67f3c07",
   "metadata": {},
   "outputs": [
    {
     "name": "stdout",
     "output_type": "stream",
     "text": [
      "[4 5 5 ... 2 2 2]\n"
     ]
    }
   ],
   "source": [
    "print(labels_k_bow)"
   ]
  },
  {
   "cell_type": "code",
   "execution_count": 62,
   "id": "9e67abbb-dbda-4e76-b925-ea91254a3c6f",
   "metadata": {},
   "outputs": [],
   "source": [
    "from sklearn import metrics\n",
    "silhouette_score = metrics.silhouette_score(bow, labels_k_bow, metric='cosine')"
   ]
  },
  {
   "cell_type": "code",
   "execution_count": 63,
   "id": "140a018d-ecf7-4409-811b-32e9973a0852",
   "metadata": {},
   "outputs": [
    {
     "data": {
      "text/plain": [
       "0.04817386931978426"
      ]
     },
     "execution_count": 63,
     "metadata": {},
     "output_type": "execute_result"
    }
   ],
   "source": [
    "# which tells us that clusters are far away from each other \n",
    "silhouette_score"
   ]
  },
  {
   "cell_type": "code",
   "execution_count": 64,
   "id": "5f4e43ad-64a0-4d37-bbcb-239f446273d3",
   "metadata": {},
   "outputs": [
    {
     "name": "stdout",
     "output_type": "stream",
     "text": [
      "Top terms per cluster:\n",
      "Cluster 0: people\n",
      " ebola\n",
      " young\n",
      " insurance\n",
      " million\n",
      " mental\n",
      " dont\n",
      " stefaniei\n",
      " old\n",
      " contact\n",
      "Cluster 1: need\n",
      " change\n",
      " know\n",
      " care\n",
      " dont\n",
      " stefaniei\n",
      " brain\n",
      " job\n",
      " healthcare\n",
      " late\n",
      "Cluster 2: care\n",
      " stefaniei\n",
      " food\n",
      " year\n",
      " law\n",
      " kid\n",
      " plan\n",
      " could\n",
      " death\n",
      " work\n",
      "Cluster 3: ebola\n",
      " outbreak\n",
      " ebola outbreak\n",
      " leone\n",
      " sierra leone\n",
      " sierra\n",
      " africa\n",
      " west\n",
      " west africa\n",
      " liberia\n",
      "Cluster 4: drug\n",
      " ebola\n",
      " fda\n",
      " experimental\n",
      " use\n",
      " trial\n",
      " stefaniei\n",
      " hepatitis\n",
      " cost\n",
      " price\n",
      "Cluster 5: ebola\n",
      " liberia\n",
      " nurse\n",
      " worker\n",
      " vaccine\n",
      " test\n",
      " quarantine\n",
      " cdc\n",
      " fight\n",
      " ebola vaccine\n",
      "Cluster 6: cancer\n",
      " breast\n",
      " breast cancer\n",
      " drug\n",
      " cancer drug\n",
      " test\n",
      " treatment\n",
      " rate\n",
      " screen\n",
      " stefaniei\n",
      "Cluster 7: alzheimers\n",
      " therapy\n",
      " disease\n",
      " test\n",
      " gene\n",
      " blood\n",
      " brain\n",
      " early\n",
      " treatment\n",
      " cell\n"
     ]
    }
   ],
   "source": [
    "print(\"Top terms per cluster:\")\n",
    "order_centroids = model.cluster_centers_.argsort()[:, ::-1]\n",
    "terms = count_vect.get_feature_names()\n",
    "for i in range(clusters):\n",
    "    print(\"Cluster %d:\" % i, end='')\n",
    "    for ind in order_centroids[i, :10]:\n",
    "        print(' %s' % terms[ind], end='')\n",
    "        print()"
   ]
  },
  {
   "cell_type": "markdown",
   "id": "cf7d9551-ecc8-4310-8a30-acc3ac7f0375",
   "metadata": {},
   "source": [
    "### Applying DBSCAN using TFIDF - determining number of clusters"
   ]
  },
  {
   "cell_type": "code",
   "execution_count": 65,
   "id": "5f253890-708b-499b-ac62-ff4ecb6d1e40",
   "metadata": {},
   "outputs": [
    {
     "name": "stdout",
     "output_type": "stream",
     "text": [
      "Estimated no. of clusters: 2\n",
      "Estimated no. of noise points: 3\n"
     ]
    }
   ],
   "source": [
    "# Configuration options\n",
    "num_samples_total = 1000\n",
    "cluster_centers = [(3,3), (7,7)]\n",
    "num_classes = len(cluster_centers)\n",
    "epsilon = 1.0\n",
    "min_samples = 50\n",
    "\n",
    "# Generate data\n",
    "X, y = make_blobs(n_samples = num_samples_total, centers = cluster_centers, n_features = num_classes, center_box=(0, 1), cluster_std = 0.5)\n",
    "\n",
    "# Compute DBSCAN\n",
    "db_tfidf = DBSCAN(eps=epsilon, min_samples=min_samples).fit(tfidf)\n",
    "labels_dbscan_tfidf = db_tfidf.labels_\n",
    "\n",
    "no_clusters = len(np.unique(labels_dbscan_tfidf) )\n",
    "no_noise = np.sum(np.array(labels_dbscan_tfidf) == -1, axis=0)\n",
    "\n",
    "print('Estimated no. of clusters: %d' % no_clusters)\n",
    "print('Estimated no. of noise points: %d' % no_noise)"
   ]
  },
  {
   "cell_type": "markdown",
   "id": "70afbd83-1d4d-4bb3-a8db-cd904bd26dbf",
   "metadata": {},
   "source": [
    "### Applying K-means using TFIDF"
   ]
  },
  {
   "cell_type": "code",
   "execution_count": 66,
   "id": "d4fdb7dc-b439-4ce1-833b-b66c62c7cd94",
   "metadata": {},
   "outputs": [
    {
     "data": {
      "text/html": [
       "<style>#sk-container-id-2 {color: black;background-color: white;}#sk-container-id-2 pre{padding: 0;}#sk-container-id-2 div.sk-toggleable {background-color: white;}#sk-container-id-2 label.sk-toggleable__label {cursor: pointer;display: block;width: 100%;margin-bottom: 0;padding: 0.3em;box-sizing: border-box;text-align: center;}#sk-container-id-2 label.sk-toggleable__label-arrow:before {content: \"▸\";float: left;margin-right: 0.25em;color: #696969;}#sk-container-id-2 label.sk-toggleable__label-arrow:hover:before {color: black;}#sk-container-id-2 div.sk-estimator:hover label.sk-toggleable__label-arrow:before {color: black;}#sk-container-id-2 div.sk-toggleable__content {max-height: 0;max-width: 0;overflow: hidden;text-align: left;background-color: #f0f8ff;}#sk-container-id-2 div.sk-toggleable__content pre {margin: 0.2em;color: black;border-radius: 0.25em;background-color: #f0f8ff;}#sk-container-id-2 input.sk-toggleable__control:checked~div.sk-toggleable__content {max-height: 200px;max-width: 100%;overflow: auto;}#sk-container-id-2 input.sk-toggleable__control:checked~label.sk-toggleable__label-arrow:before {content: \"▾\";}#sk-container-id-2 div.sk-estimator input.sk-toggleable__control:checked~label.sk-toggleable__label {background-color: #d4ebff;}#sk-container-id-2 div.sk-label input.sk-toggleable__control:checked~label.sk-toggleable__label {background-color: #d4ebff;}#sk-container-id-2 input.sk-hidden--visually {border: 0;clip: rect(1px 1px 1px 1px);clip: rect(1px, 1px, 1px, 1px);height: 1px;margin: -1px;overflow: hidden;padding: 0;position: absolute;width: 1px;}#sk-container-id-2 div.sk-estimator {font-family: monospace;background-color: #f0f8ff;border: 1px dotted black;border-radius: 0.25em;box-sizing: border-box;margin-bottom: 0.5em;}#sk-container-id-2 div.sk-estimator:hover {background-color: #d4ebff;}#sk-container-id-2 div.sk-parallel-item::after {content: \"\";width: 100%;border-bottom: 1px solid gray;flex-grow: 1;}#sk-container-id-2 div.sk-label:hover label.sk-toggleable__label {background-color: #d4ebff;}#sk-container-id-2 div.sk-serial::before {content: \"\";position: absolute;border-left: 1px solid gray;box-sizing: border-box;top: 0;bottom: 0;left: 50%;z-index: 0;}#sk-container-id-2 div.sk-serial {display: flex;flex-direction: column;align-items: center;background-color: white;padding-right: 0.2em;padding-left: 0.2em;position: relative;}#sk-container-id-2 div.sk-item {position: relative;z-index: 1;}#sk-container-id-2 div.sk-parallel {display: flex;align-items: stretch;justify-content: center;background-color: white;position: relative;}#sk-container-id-2 div.sk-item::before, #sk-container-id-2 div.sk-parallel-item::before {content: \"\";position: absolute;border-left: 1px solid gray;box-sizing: border-box;top: 0;bottom: 0;left: 50%;z-index: -1;}#sk-container-id-2 div.sk-parallel-item {display: flex;flex-direction: column;z-index: 1;position: relative;background-color: white;}#sk-container-id-2 div.sk-parallel-item:first-child::after {align-self: flex-end;width: 50%;}#sk-container-id-2 div.sk-parallel-item:last-child::after {align-self: flex-start;width: 50%;}#sk-container-id-2 div.sk-parallel-item:only-child::after {width: 0;}#sk-container-id-2 div.sk-dashed-wrapped {border: 1px dashed gray;margin: 0 0.4em 0.5em 0.4em;box-sizing: border-box;padding-bottom: 0.4em;background-color: white;}#sk-container-id-2 div.sk-label label {font-family: monospace;font-weight: bold;display: inline-block;line-height: 1.2em;}#sk-container-id-2 div.sk-label-container {text-align: center;}#sk-container-id-2 div.sk-container {/* jupyter's `normalize.less` sets `[hidden] { display: none; }` but bootstrap.min.css set `[hidden] { display: none !important; }` so we also need the `!important` here to be able to override the default hidden behavior on the sphinx rendered scikit-learn.org. See: https://github.com/scikit-learn/scikit-learn/issues/21755 */display: inline-block !important;position: relative;}#sk-container-id-2 div.sk-text-repr-fallback {display: none;}</style><div id=\"sk-container-id-2\" class=\"sk-top-container\"><div class=\"sk-text-repr-fallback\"><pre>KMeans(random_state=99)</pre><b>In a Jupyter environment, please rerun this cell to show the HTML representation or trust the notebook. <br />On GitHub, the HTML representation is unable to render, please try loading this page with nbviewer.org.</b></div><div class=\"sk-container\" hidden><div class=\"sk-item\"><div class=\"sk-estimator sk-toggleable\"><input class=\"sk-toggleable__control sk-hidden--visually\" id=\"sk-estimator-id-2\" type=\"checkbox\" checked><label for=\"sk-estimator-id-2\" class=\"sk-toggleable__label sk-toggleable__label-arrow\">KMeans</label><div class=\"sk-toggleable__content\"><pre>KMeans(random_state=99)</pre></div></div></div></div></div>"
      ],
      "text/plain": [
       "KMeans(random_state=99)"
      ]
     },
     "execution_count": 66,
     "metadata": {},
     "output_type": "execute_result"
    }
   ],
   "source": [
    "from sklearn.cluster import KMeans\n",
    "model_tf = KMeans(n_clusters = clusters, random_state=99)\n",
    "model_tf.fit(tfidf)"
   ]
  },
  {
   "cell_type": "code",
   "execution_count": 67,
   "id": "61a3ac89-ddac-4c8b-9900-69c2e57b1b52",
   "metadata": {},
   "outputs": [],
   "source": [
    "labels_tf = model_tf.labels_\n",
    "cluster_center_tf=model_tf.cluster_centers_"
   ]
  },
  {
   "cell_type": "code",
   "execution_count": 68,
   "id": "b91e761e-8d14-44b8-b1b1-93727e071100",
   "metadata": {},
   "outputs": [
    {
     "data": {
      "text/plain": [
       "array([[0.0041789 , 0.00281059, 0.00284861, ..., 0.00223016, 0.00516267,\n",
       "        0.00429663],\n",
       "       [0.        , 0.        , 0.00159719, ..., 0.00132952, 0.01191132,\n",
       "        0.00135102],\n",
       "       [0.        , 0.        , 0.00095054, ..., 0.01374387, 0.00019151,\n",
       "        0.00059971],\n",
       "       ...,\n",
       "       [0.        , 0.00108121, 0.00095627, ..., 0.        , 0.00776193,\n",
       "        0.00205928],\n",
       "       [0.        , 0.00281631, 0.00412368, ..., 0.00254396, 0.00760265,\n",
       "        0.00071015],\n",
       "       [0.00119014, 0.00121373, 0.00428228, ..., 0.        , 0.00387833,\n",
       "        0.00500442]])"
      ]
     },
     "execution_count": 68,
     "metadata": {},
     "output_type": "execute_result"
    }
   ],
   "source": [
    "cluster_center_tf"
   ]
  },
  {
   "cell_type": "code",
   "execution_count": 69,
   "id": "c0928355-428c-4229-8625-fb7ccd7d115c",
   "metadata": {},
   "outputs": [],
   "source": [
    "silhouette_score_tf = metrics.silhouette_score(tfidf, labels_tf, metric='cosine')"
   ]
  },
  {
   "cell_type": "code",
   "execution_count": 70,
   "id": "9c17d879-777c-4d87-8251-3605a403896a",
   "metadata": {},
   "outputs": [
    {
     "data": {
      "text/plain": [
       "0.03913119856584435"
      ]
     },
     "execution_count": 70,
     "metadata": {},
     "output_type": "execute_result"
    }
   ],
   "source": [
    "silhouette_score_tf"
   ]
  },
  {
   "cell_type": "code",
   "execution_count": 71,
   "id": "87b1f19c-3c19-40d9-8996-ef038d246b3d",
   "metadata": {},
   "outputs": [
    {
     "name": "stdout",
     "output_type": "stream",
     "text": [
      "Top terms per cluster:\n",
      "Cluster 0: drug\n",
      " food\n",
      " stefaniei\n",
      " kid\n",
      " year\n",
      " law\n",
      " could\n",
      " plan\n",
      " death\n",
      " work\n",
      "Cluster 1: cancer\n",
      " breast\n",
      " breast cancer\n",
      " cancer drug\n",
      " drug\n",
      " test\n",
      " treatment\n",
      " rate\n",
      " screen\n",
      " link\n",
      "Cluster 2: ebola\n",
      " liberia\n",
      " outbreak\n",
      " africa\n",
      " ebola outbreak\n",
      " nurse\n",
      " quarantine\n",
      " west\n",
      " fight\n",
      " dallas\n",
      "Cluster 3: fda\n",
      " drug\n",
      " tomburtonwsj\n",
      " use\n",
      " rule\n",
      " device\n",
      " blood\n",
      " cancer\n",
      " test\n",
      " treatment\n",
      "Cluster 4: leone\n",
      " sierra leone\n",
      " sierra\n",
      " ebola\n",
      " liberia\n",
      " toll\n",
      " spread\n",
      " outbreak\n",
      " ebola outbreak\n",
      " death\n",
      "Cluster 5: heart\n",
      " link\n",
      " disease\n",
      " death\n",
      " obesity\n",
      " drug\n",
      " low\n",
      " stroke\n",
      " surgery\n",
      " age\n",
      "Cluster 6: care\n",
      " social\n",
      " home\n",
      " cost\n",
      " worker\n",
      " ebola\n",
      " need\n",
      " mental\n",
      " plan\n",
      " pay\n",
      "Cluster 7: use\n",
      " life\n",
      " know\n",
      " save\n",
      " need\n",
      " drug\n",
      " want\n",
      " dont\n",
      " people\n",
      " ebola\n"
     ]
    }
   ],
   "source": [
    "#Refrence credit - to find the top 10 features of cluster centriod\n",
    "#https://stackoverflow.com/questions/47452119/kmean-clustering-top-terms-in-cluster\n",
    "print(\"Top terms per cluster:\")\n",
    "order_centroids = model_tf.cluster_centers_.argsort()[:, ::-1]\n",
    "for i in range(clusters):\n",
    "    print(\"Cluster %d:\" % i, end='')\n",
    "    for ind in order_centroids[i, :10]:\n",
    "        print(' %s' % terms1[ind], end='')\n",
    "        print()"
   ]
  },
  {
   "cell_type": "markdown",
   "id": "a3f4384d-2ad3-448f-b0a7-3bac561d9d7c",
   "metadata": {},
   "source": [
    "### Processed text column and clusters in DataFrame - based on K-means clustering using BOW"
   ]
  },
  {
   "cell_type": "code",
   "execution_count": 72,
   "id": "dc17e67d-ea27-4578-9d83-6d731a37dec3",
   "metadata": {},
   "outputs": [
    {
     "data": {
      "text/plain": [
       "['experimental drug uk ebola nurse',\n",
       " 'ebola screen test scrutiny',\n",
       " 'uk ebola screen scrutiny',\n",
       " 'frontline staff give honour',\n",
       " 'plasma treatment uk ebola',\n",
       " 'first ebola link bat play',\n",
       " 'trial',\n",
       " 'ebola arrive london',\n",
       " 'obsess target',\n",
       " 'prescription fraud plan criticise']"
      ]
     },
     "execution_count": 72,
     "metadata": {},
     "output_type": "execute_result"
    }
   ],
   "source": [
    "list_of_strings[:10]"
   ]
  },
  {
   "cell_type": "code",
   "execution_count": 73,
   "id": "f54360e3-2c0b-42dc-978f-5eb15e8ae5b7",
   "metadata": {},
   "outputs": [
    {
     "name": "stdout",
     "output_type": "stream",
     "text": [
      "[['experimental drug uk ebola nurse'], ['ebola screen test scrutiny'], ['uk ebola screen scrutiny'], ['frontline staff give honour'], ['plasma treatment uk ebola'], ['first ebola link bat play'], ['trial'], ['ebola arrive london'], ['obsess target'], ['prescription fraud plan criticise']]\n"
     ]
    }
   ],
   "source": [
    "# processed text column from list of strings to list of lists\n",
    "list_of_list_clusters = []\n",
    "\n",
    "for element in list_of_strings:\n",
    "    list_1 = []\n",
    "    list_1.append(element)\n",
    "    list_of_list_clusters.append(list_1)\n",
    "    list_1 = []\n",
    "print(list_of_list_clusters[:10])"
   ]
  },
  {
   "cell_type": "code",
   "execution_count": 74,
   "id": "37be5392-6b88-4aec-a230-ae5bd535aab3",
   "metadata": {},
   "outputs": [
    {
     "data": {
      "text/plain": [
       "25995"
      ]
     },
     "execution_count": 74,
     "metadata": {},
     "output_type": "execute_result"
    }
   ],
   "source": [
    "len(labels_k_bow)"
   ]
  },
  {
   "cell_type": "code",
   "execution_count": 75,
   "id": "43f6c3f7-596c-4934-adcd-0c35c3acf701",
   "metadata": {},
   "outputs": [
    {
     "data": {
      "text/plain": [
       "25995"
      ]
     },
     "execution_count": 75,
     "metadata": {},
     "output_type": "execute_result"
    }
   ],
   "source": [
    "len(labels_tf)"
   ]
  },
  {
   "cell_type": "code",
   "execution_count": 76,
   "id": "9bd1552f-f66f-456a-a565-1f25b41661cf",
   "metadata": {},
   "outputs": [
    {
     "data": {
      "text/plain": [
       "int"
      ]
     },
     "execution_count": 76,
     "metadata": {},
     "output_type": "execute_result"
    }
   ],
   "source": [
    "labels_k_bow = labels_k_bow.tolist()\n",
    "type(labels_k_bow[0])"
   ]
  },
  {
   "cell_type": "code",
   "execution_count": 77,
   "id": "c9a70b27-2131-4023-942d-a5121becac85",
   "metadata": {},
   "outputs": [
    {
     "data": {
      "text/plain": [
       "[4, 5, 5, 2, 5, 5, 2, 5, 2, 2]"
      ]
     },
     "execution_count": 77,
     "metadata": {},
     "output_type": "execute_result"
    }
   ],
   "source": [
    "labels_k_bow[:10]"
   ]
  },
  {
   "cell_type": "code",
   "execution_count": 78,
   "id": "6cc9454f-17ee-43c9-b7b8-5296afc28ee3",
   "metadata": {},
   "outputs": [
    {
     "name": "stdout",
     "output_type": "stream",
     "text": [
      "[[4], [5], [5], [2], [5], [5], [2], [5], [2], [2]]\n"
     ]
    }
   ],
   "source": [
    "# processed clusters label from list of integers to list of lists\n",
    "list_of_lists_labels = []\n",
    "\n",
    "for element in labels_k_bow:\n",
    "    list_1 = []\n",
    "    list_1.append(element)\n",
    "    list_of_lists_labels.append(list_1)\n",
    "    list_1 = []\n",
    "print(list_of_lists_labels[:10])"
   ]
  },
  {
   "cell_type": "code",
   "execution_count": 79,
   "id": "8606114e-c09f-44e4-b652-3dc125a70e48",
   "metadata": {},
   "outputs": [
    {
     "data": {
      "text/html": [
       "<div>\n",
       "<style scoped>\n",
       "    .dataframe tbody tr th:only-of-type {\n",
       "        vertical-align: middle;\n",
       "    }\n",
       "\n",
       "    .dataframe tbody tr th {\n",
       "        vertical-align: top;\n",
       "    }\n",
       "\n",
       "    .dataframe thead th {\n",
       "        text-align: right;\n",
       "    }\n",
       "</style>\n",
       "<table border=\"1\" class=\"dataframe\">\n",
       "  <thead>\n",
       "    <tr style=\"text-align: right;\">\n",
       "      <th></th>\n",
       "      <th>Tweets_cleaned</th>\n",
       "    </tr>\n",
       "  </thead>\n",
       "  <tbody>\n",
       "    <tr>\n",
       "      <th>0</th>\n",
       "      <td>experimental drug uk ebola nurse</td>\n",
       "    </tr>\n",
       "    <tr>\n",
       "      <th>1</th>\n",
       "      <td>ebola screen test scrutiny</td>\n",
       "    </tr>\n",
       "    <tr>\n",
       "      <th>2</th>\n",
       "      <td>uk ebola screen scrutiny</td>\n",
       "    </tr>\n",
       "    <tr>\n",
       "      <th>3</th>\n",
       "      <td>frontline staff give honour</td>\n",
       "    </tr>\n",
       "    <tr>\n",
       "      <th>4</th>\n",
       "      <td>plasma treatment uk ebola</td>\n",
       "    </tr>\n",
       "    <tr>\n",
       "      <th>5</th>\n",
       "      <td>first ebola link bat play</td>\n",
       "    </tr>\n",
       "    <tr>\n",
       "      <th>6</th>\n",
       "      <td>trial</td>\n",
       "    </tr>\n",
       "    <tr>\n",
       "      <th>7</th>\n",
       "      <td>ebola arrive london</td>\n",
       "    </tr>\n",
       "    <tr>\n",
       "      <th>8</th>\n",
       "      <td>obsess target</td>\n",
       "    </tr>\n",
       "    <tr>\n",
       "      <th>9</th>\n",
       "      <td>prescription fraud plan criticise</td>\n",
       "    </tr>\n",
       "  </tbody>\n",
       "</table>\n",
       "</div>"
      ],
      "text/plain": [
       "                      Tweets_cleaned\n",
       "0   experimental drug uk ebola nurse\n",
       "1         ebola screen test scrutiny\n",
       "2           uk ebola screen scrutiny\n",
       "3        frontline staff give honour\n",
       "4          plasma treatment uk ebola\n",
       "5          first ebola link bat play\n",
       "6                              trial\n",
       "7                ebola arrive london\n",
       "8                      obsess target\n",
       "9  prescription fraud plan criticise"
      ]
     },
     "execution_count": 79,
     "metadata": {},
     "output_type": "execute_result"
    }
   ],
   "source": [
    "tweets_clustered = pd.DataFrame(list_of_list_clusters)\n",
    "tweets_clustered.rename(columns = {0:'Tweets_cleaned'}, inplace = True)\n",
    "tweets_clustered[:10]"
   ]
  },
  {
   "cell_type": "code",
   "execution_count": 80,
   "id": "463f6a8d-7993-4df5-b5d9-69e3ac635d5f",
   "metadata": {},
   "outputs": [
    {
     "data": {
      "text/html": [
       "<div>\n",
       "<style scoped>\n",
       "    .dataframe tbody tr th:only-of-type {\n",
       "        vertical-align: middle;\n",
       "    }\n",
       "\n",
       "    .dataframe tbody tr th {\n",
       "        vertical-align: top;\n",
       "    }\n",
       "\n",
       "    .dataframe thead th {\n",
       "        text-align: right;\n",
       "    }\n",
       "</style>\n",
       "<table border=\"1\" class=\"dataframe\">\n",
       "  <thead>\n",
       "    <tr style=\"text-align: right;\">\n",
       "      <th></th>\n",
       "      <th>Cluster_labels</th>\n",
       "    </tr>\n",
       "  </thead>\n",
       "  <tbody>\n",
       "    <tr>\n",
       "      <th>0</th>\n",
       "      <td>4</td>\n",
       "    </tr>\n",
       "    <tr>\n",
       "      <th>1</th>\n",
       "      <td>5</td>\n",
       "    </tr>\n",
       "    <tr>\n",
       "      <th>2</th>\n",
       "      <td>5</td>\n",
       "    </tr>\n",
       "    <tr>\n",
       "      <th>3</th>\n",
       "      <td>2</td>\n",
       "    </tr>\n",
       "    <tr>\n",
       "      <th>4</th>\n",
       "      <td>5</td>\n",
       "    </tr>\n",
       "    <tr>\n",
       "      <th>5</th>\n",
       "      <td>5</td>\n",
       "    </tr>\n",
       "    <tr>\n",
       "      <th>6</th>\n",
       "      <td>2</td>\n",
       "    </tr>\n",
       "    <tr>\n",
       "      <th>7</th>\n",
       "      <td>5</td>\n",
       "    </tr>\n",
       "    <tr>\n",
       "      <th>8</th>\n",
       "      <td>2</td>\n",
       "    </tr>\n",
       "    <tr>\n",
       "      <th>9</th>\n",
       "      <td>2</td>\n",
       "    </tr>\n",
       "  </tbody>\n",
       "</table>\n",
       "</div>"
      ],
      "text/plain": [
       "   Cluster_labels\n",
       "0               4\n",
       "1               5\n",
       "2               5\n",
       "3               2\n",
       "4               5\n",
       "5               5\n",
       "6               2\n",
       "7               5\n",
       "8               2\n",
       "9               2"
      ]
     },
     "execution_count": 80,
     "metadata": {},
     "output_type": "execute_result"
    }
   ],
   "source": [
    "clusters = pd.DataFrame(list_of_lists_labels)\n",
    "clusters.rename(columns = {0:'Cluster_labels'}, inplace = True)\n",
    "clusters[:10]"
   ]
  },
  {
   "cell_type": "code",
   "execution_count": 81,
   "id": "fa316151-de37-4bfd-a95c-1ec57f7ed3b7",
   "metadata": {},
   "outputs": [],
   "source": [
    "# merging text column and clusters lables\n",
    "text_clusters = pd.concat([tweets_clustered,clusters], axis=1)"
   ]
  },
  {
   "cell_type": "code",
   "execution_count": 82,
   "id": "0da425bd-ed75-4238-976d-736fc5d2cb20",
   "metadata": {},
   "outputs": [
    {
     "data": {
      "text/html": [
       "<div>\n",
       "<style scoped>\n",
       "    .dataframe tbody tr th:only-of-type {\n",
       "        vertical-align: middle;\n",
       "    }\n",
       "\n",
       "    .dataframe tbody tr th {\n",
       "        vertical-align: top;\n",
       "    }\n",
       "\n",
       "    .dataframe thead th {\n",
       "        text-align: right;\n",
       "    }\n",
       "</style>\n",
       "<table border=\"1\" class=\"dataframe\">\n",
       "  <thead>\n",
       "    <tr style=\"text-align: right;\">\n",
       "      <th></th>\n",
       "      <th>Tweets_cleaned</th>\n",
       "      <th>Cluster_labels</th>\n",
       "    </tr>\n",
       "  </thead>\n",
       "  <tbody>\n",
       "    <tr>\n",
       "      <th>0</th>\n",
       "      <td>experimental drug uk ebola nurse</td>\n",
       "      <td>4</td>\n",
       "    </tr>\n",
       "    <tr>\n",
       "      <th>1</th>\n",
       "      <td>ebola screen test scrutiny</td>\n",
       "      <td>5</td>\n",
       "    </tr>\n",
       "    <tr>\n",
       "      <th>2</th>\n",
       "      <td>uk ebola screen scrutiny</td>\n",
       "      <td>5</td>\n",
       "    </tr>\n",
       "    <tr>\n",
       "      <th>3</th>\n",
       "      <td>frontline staff give honour</td>\n",
       "      <td>2</td>\n",
       "    </tr>\n",
       "    <tr>\n",
       "      <th>4</th>\n",
       "      <td>plasma treatment uk ebola</td>\n",
       "      <td>5</td>\n",
       "    </tr>\n",
       "    <tr>\n",
       "      <th>...</th>\n",
       "      <td>...</td>\n",
       "      <td>...</td>\n",
       "    </tr>\n",
       "    <tr>\n",
       "      <th>25990</th>\n",
       "      <td>expect work better year</td>\n",
       "      <td>2</td>\n",
       "    </tr>\n",
       "    <tr>\n",
       "      <th>25991</th>\n",
       "      <td>shortens insurance application</td>\n",
       "      <td>2</td>\n",
       "    </tr>\n",
       "    <tr>\n",
       "      <th>25992</th>\n",
       "      <td>test confidential</td>\n",
       "      <td>2</td>\n",
       "    </tr>\n",
       "    <tr>\n",
       "      <th>25993</th>\n",
       "      <td>delay web host switch</td>\n",
       "      <td>2</td>\n",
       "    </tr>\n",
       "    <tr>\n",
       "      <th>25994</th>\n",
       "      <td>plan deadline leeway</td>\n",
       "      <td>2</td>\n",
       "    </tr>\n",
       "  </tbody>\n",
       "</table>\n",
       "<p>25995 rows × 2 columns</p>\n",
       "</div>"
      ],
      "text/plain": [
       "                         Tweets_cleaned  Cluster_labels\n",
       "0      experimental drug uk ebola nurse               4\n",
       "1            ebola screen test scrutiny               5\n",
       "2              uk ebola screen scrutiny               5\n",
       "3           frontline staff give honour               2\n",
       "4             plasma treatment uk ebola               5\n",
       "...                                 ...             ...\n",
       "25990           expect work better year               2\n",
       "25991    shortens insurance application               2\n",
       "25992                 test confidential               2\n",
       "25993             delay web host switch               2\n",
       "25994              plan deadline leeway               2\n",
       "\n",
       "[25995 rows x 2 columns]"
      ]
     },
     "execution_count": 82,
     "metadata": {},
     "output_type": "execute_result"
    }
   ],
   "source": [
    "text_clusters"
   ]
  },
  {
   "cell_type": "markdown",
   "id": "a9cdce0b-bed6-4981-a6d3-ea2cd208f441",
   "metadata": {},
   "source": [
    "#### Merging with the initial dataframe twitter_health"
   ]
  },
  {
   "cell_type": "code",
   "execution_count": 83,
   "id": "756057be-96f8-409c-9226-038b4c8ac983",
   "metadata": {},
   "outputs": [
    {
     "name": "stdout",
     "output_type": "stream",
     "text": [
      "Initial DataFrame shape: (25995, 6)\n",
      "Text and clusters labels DataFrame shape: (25995, 2)\n"
     ]
    }
   ],
   "source": [
    "# cheking the lenght before merge\n",
    "print('Initial DataFrame shape:', twitter_health.shape)\n",
    "print('Text and clusters labels DataFrame shape:', text_clusters.shape)\n",
    "assert len(twitter_health) == len(text_clusters)"
   ]
  },
  {
   "cell_type": "code",
   "execution_count": 84,
   "id": "45eb8656-aa4a-47e0-a5e6-2f5cb77bbd6a",
   "metadata": {},
   "outputs": [],
   "source": [
    "tweets_clustered = pd.concat([twitter_health, text_clusters], axis=1)"
   ]
  },
  {
   "cell_type": "markdown",
   "id": "bd00589d-bb81-4e7a-a1f3-d8ae17e3b613",
   "metadata": {},
   "source": [
    "#### Clustered dataframe for further tweets analysis"
   ]
  },
  {
   "cell_type": "code",
   "execution_count": 85,
   "id": "151ee241-07c8-46fb-8eb3-f206019c3bf2",
   "metadata": {},
   "outputs": [
    {
     "data": {
      "text/html": [
       "<div>\n",
       "<style scoped>\n",
       "    .dataframe tbody tr th:only-of-type {\n",
       "        vertical-align: middle;\n",
       "    }\n",
       "\n",
       "    .dataframe tbody tr th {\n",
       "        vertical-align: top;\n",
       "    }\n",
       "\n",
       "    .dataframe thead th {\n",
       "        text-align: right;\n",
       "    }\n",
       "</style>\n",
       "<table border=\"1\" class=\"dataframe\">\n",
       "  <thead>\n",
       "    <tr style=\"text-align: right;\">\n",
       "      <th></th>\n",
       "      <th>Number</th>\n",
       "      <th>Date_Time</th>\n",
       "      <th>info</th>\n",
       "      <th>source</th>\n",
       "      <th>Core_info_final</th>\n",
       "      <th>year</th>\n",
       "      <th>Tweets_cleaned</th>\n",
       "      <th>Cluster_labels</th>\n",
       "    </tr>\n",
       "  </thead>\n",
       "  <tbody>\n",
       "    <tr>\n",
       "      <th>0</th>\n",
       "      <td>550314934601383936</td>\n",
       "      <td>2014-12-31 15:37:59+00:00</td>\n",
       "      <td>Experimental drug for UK Ebola nurse http://bb...</td>\n",
       "      <td>bbchealth</td>\n",
       "      <td>Experimental drug for UK Ebola nurse</td>\n",
       "      <td>2014</td>\n",
       "      <td>experimental drug uk ebola nurse</td>\n",
       "      <td>4</td>\n",
       "    </tr>\n",
       "    <tr>\n",
       "      <th>1</th>\n",
       "      <td>550221415426039808</td>\n",
       "      <td>2014-12-31 09:26:22+00:00</td>\n",
       "      <td>Ebola screening tests under scrutiny http://bb...</td>\n",
       "      <td>bbchealth</td>\n",
       "      <td>Ebola screening tests under scrutiny</td>\n",
       "      <td>2014</td>\n",
       "      <td>ebola screen test scrutiny</td>\n",
       "      <td>5</td>\n",
       "    </tr>\n",
       "    <tr>\n",
       "      <th>2</th>\n",
       "      <td>550193117714849793</td>\n",
       "      <td>2014-12-31 07:33:56+00:00</td>\n",
       "      <td>VIDEO: UK Ebola screening under scrutiny http:...</td>\n",
       "      <td>bbchealth</td>\n",
       "      <td>VIDEO: UK Ebola screening under scrutiny</td>\n",
       "      <td>2014</td>\n",
       "      <td>uk ebola screen scrutiny</td>\n",
       "      <td>5</td>\n",
       "    </tr>\n",
       "    <tr>\n",
       "      <th>3</th>\n",
       "      <td>550071243576074240</td>\n",
       "      <td>2014-12-30 23:29:38+00:00</td>\n",
       "      <td>Frontline NHS staff given honours http://bbc.i...</td>\n",
       "      <td>bbchealth</td>\n",
       "      <td>Frontline NHS staff given honours</td>\n",
       "      <td>2014</td>\n",
       "      <td>frontline staff give honour</td>\n",
       "      <td>2</td>\n",
       "    </tr>\n",
       "    <tr>\n",
       "      <th>4</th>\n",
       "      <td>549985974650798081</td>\n",
       "      <td>2014-12-30 17:50:49+00:00</td>\n",
       "      <td>Plasma treatment for UK Ebola patient http://b...</td>\n",
       "      <td>bbchealth</td>\n",
       "      <td>Plasma treatment for UK Ebola patient</td>\n",
       "      <td>2014</td>\n",
       "      <td>plasma treatment uk ebola</td>\n",
       "      <td>5</td>\n",
       "    </tr>\n",
       "    <tr>\n",
       "      <th>5</th>\n",
       "      <td>549924270516609025</td>\n",
       "      <td>2014-12-30 13:45:37+00:00</td>\n",
       "      <td>First Ebola case linked to bat play http://bbc...</td>\n",
       "      <td>bbchealth</td>\n",
       "      <td>First Ebola case linked to bat play</td>\n",
       "      <td>2014</td>\n",
       "      <td>first ebola link bat play</td>\n",
       "      <td>5</td>\n",
       "    </tr>\n",
       "    <tr>\n",
       "      <th>6</th>\n",
       "      <td>549896218680107008</td>\n",
       "      <td>2014-12-30 11:54:09+00:00</td>\n",
       "      <td>VIDEO: How trials helped patients in 2014 http...</td>\n",
       "      <td>bbchealth</td>\n",
       "      <td>VIDEO: How trials helped patients in 2014</td>\n",
       "      <td>2014</td>\n",
       "      <td>trial</td>\n",
       "      <td>2</td>\n",
       "    </tr>\n",
       "    <tr>\n",
       "      <th>7</th>\n",
       "      <td>549849800854626304</td>\n",
       "      <td>2014-12-30 08:49:42+00:00</td>\n",
       "      <td>Ebola patient arrives in London http://bbc.in/...</td>\n",
       "      <td>bbchealth</td>\n",
       "      <td>Ebola patient arrives in London</td>\n",
       "      <td>2014</td>\n",
       "      <td>ebola arrive london</td>\n",
       "      <td>5</td>\n",
       "    </tr>\n",
       "    <tr>\n",
       "      <th>8</th>\n",
       "      <td>549738504419176448</td>\n",
       "      <td>2014-12-30 01:27:27+00:00</td>\n",
       "      <td>Are we too obsessed with NHS targets? http://b...</td>\n",
       "      <td>bbchealth</td>\n",
       "      <td>Are we too obsessed with NHS targets?</td>\n",
       "      <td>2014</td>\n",
       "      <td>obsess target</td>\n",
       "      <td>2</td>\n",
       "    </tr>\n",
       "    <tr>\n",
       "      <th>9</th>\n",
       "      <td>549721285945597952</td>\n",
       "      <td>2014-12-30 00:19:02+00:00</td>\n",
       "      <td>Prescription fraud plan criticised http://bbc....</td>\n",
       "      <td>bbchealth</td>\n",
       "      <td>Prescription fraud plan criticised</td>\n",
       "      <td>2014</td>\n",
       "      <td>prescription fraud plan criticise</td>\n",
       "      <td>2</td>\n",
       "    </tr>\n",
       "  </tbody>\n",
       "</table>\n",
       "</div>"
      ],
      "text/plain": [
       "               Number                  Date_Time  \\\n",
       "0  550314934601383936  2014-12-31 15:37:59+00:00   \n",
       "1  550221415426039808  2014-12-31 09:26:22+00:00   \n",
       "2  550193117714849793  2014-12-31 07:33:56+00:00   \n",
       "3  550071243576074240  2014-12-30 23:29:38+00:00   \n",
       "4  549985974650798081  2014-12-30 17:50:49+00:00   \n",
       "5  549924270516609025  2014-12-30 13:45:37+00:00   \n",
       "6  549896218680107008  2014-12-30 11:54:09+00:00   \n",
       "7  549849800854626304  2014-12-30 08:49:42+00:00   \n",
       "8  549738504419176448  2014-12-30 01:27:27+00:00   \n",
       "9  549721285945597952  2014-12-30 00:19:02+00:00   \n",
       "\n",
       "                                                info     source  \\\n",
       "0  Experimental drug for UK Ebola nurse http://bb...  bbchealth   \n",
       "1  Ebola screening tests under scrutiny http://bb...  bbchealth   \n",
       "2  VIDEO: UK Ebola screening under scrutiny http:...  bbchealth   \n",
       "3  Frontline NHS staff given honours http://bbc.i...  bbchealth   \n",
       "4  Plasma treatment for UK Ebola patient http://b...  bbchealth   \n",
       "5  First Ebola case linked to bat play http://bbc...  bbchealth   \n",
       "6  VIDEO: How trials helped patients in 2014 http...  bbchealth   \n",
       "7  Ebola patient arrives in London http://bbc.in/...  bbchealth   \n",
       "8  Are we too obsessed with NHS targets? http://b...  bbchealth   \n",
       "9  Prescription fraud plan criticised http://bbc....  bbchealth   \n",
       "\n",
       "                              Core_info_final  year  \\\n",
       "0       Experimental drug for UK Ebola nurse   2014   \n",
       "1       Ebola screening tests under scrutiny   2014   \n",
       "2   VIDEO: UK Ebola screening under scrutiny   2014   \n",
       "3          Frontline NHS staff given honours   2014   \n",
       "4      Plasma treatment for UK Ebola patient   2014   \n",
       "5        First Ebola case linked to bat play   2014   \n",
       "6  VIDEO: How trials helped patients in 2014   2014   \n",
       "7            Ebola patient arrives in London   2014   \n",
       "8      Are we too obsessed with NHS targets?   2014   \n",
       "9         Prescription fraud plan criticised   2014   \n",
       "\n",
       "                      Tweets_cleaned  Cluster_labels  \n",
       "0   experimental drug uk ebola nurse               4  \n",
       "1         ebola screen test scrutiny               5  \n",
       "2           uk ebola screen scrutiny               5  \n",
       "3        frontline staff give honour               2  \n",
       "4          plasma treatment uk ebola               5  \n",
       "5          first ebola link bat play               5  \n",
       "6                              trial               2  \n",
       "7                ebola arrive london               5  \n",
       "8                      obsess target               2  \n",
       "9  prescription fraud plan criticise               2  "
      ]
     },
     "execution_count": 85,
     "metadata": {},
     "output_type": "execute_result"
    }
   ],
   "source": [
    "tweets_clustered[:10]"
   ]
  },
  {
   "cell_type": "code",
   "execution_count": 86,
   "id": "3de0df09-0a44-4739-8263-a3ad743f9987",
   "metadata": {},
   "outputs": [
    {
     "data": {
      "text/plain": [
       "25995"
      ]
     },
     "execution_count": 86,
     "metadata": {},
     "output_type": "execute_result"
    }
   ],
   "source": [
    "len(tweets_clustered)"
   ]
  },
  {
   "cell_type": "code",
   "execution_count": 87,
   "id": "14127349",
   "metadata": {},
   "outputs": [],
   "source": [
    "tweets_clustered['Date_Time'] = pd.to_datetime(tweets_clustered['Date_Time'], errors='coerce')\n",
    "tweets_clustered['month'] = tweets_clustered['Date_Time'].dt.month\n",
    "tweets_clustered['day_of_week'] = tweets_clustered['Date_Time'].apply(lambda time: time.dayofweek)"
   ]
  },
  {
   "cell_type": "code",
   "execution_count": 88,
   "id": "a819ab71-5090-4bae-9bf2-11f914e38bca",
   "metadata": {},
   "outputs": [],
   "source": [
    "tweets_clustered.drop(columns=['Number', 'Date_Time', 'info', 'Core_info_final'], inplace=True)"
   ]
  },
  {
   "cell_type": "code",
   "execution_count": 89,
   "id": "80dfce08-db29-4f0d-a855-07ddd32efb49",
   "metadata": {},
   "outputs": [
    {
     "name": "stdout",
     "output_type": "stream",
     "text": [
      "<class 'pandas.core.frame.DataFrame'>\n",
      "RangeIndex: 25995 entries, 0 to 25994\n",
      "Data columns (total 6 columns):\n",
      " #   Column          Non-Null Count  Dtype \n",
      "---  ------          --------------  ----- \n",
      " 0   source          25995 non-null  object\n",
      " 1   year            25995 non-null  int64 \n",
      " 2   Tweets_cleaned  25995 non-null  object\n",
      " 3   Cluster_labels  25995 non-null  int64 \n",
      " 4   month           25995 non-null  int64 \n",
      " 5   day_of_week     25995 non-null  int64 \n",
      "dtypes: int64(4), object(2)\n",
      "memory usage: 1.2+ MB\n"
     ]
    }
   ],
   "source": [
    "tweets_clustered.info()"
   ]
  },
  {
   "cell_type": "markdown",
   "id": "436439be-d089-417b-81ca-d817a3d25c4c",
   "metadata": {},
   "source": [
    "### Add doc2vec vector column to dataframe"
   ]
  },
  {
   "cell_type": "code",
   "execution_count": 90,
   "id": "eb10fa66-cc3d-4734-981f-f0fd384ef71b",
   "metadata": {},
   "outputs": [
    {
     "name": "stdout",
     "output_type": "stream",
     "text": [
      "<class 'gensim.models.doc2vec.Doc2Vec'>\n"
     ]
    }
   ],
   "source": [
    "print(type(model_d2v))"
   ]
  },
  {
   "cell_type": "code",
   "execution_count": 91,
   "id": "a47b7243-a83c-4095-adac-87a889f1de72",
   "metadata": {},
   "outputs": [],
   "source": [
    "#model_d2v[0].tolist()"
   ]
  },
  {
   "cell_type": "code",
   "execution_count": 92,
   "id": "52dc53fc-d19e-4ed7-9d90-801b2a7c7e7d",
   "metadata": {},
   "outputs": [],
   "source": [
    "#model_d2v[0].shape"
   ]
  },
  {
   "cell_type": "code",
   "execution_count": 93,
   "id": "07c50a1c-20db-4981-b268-989c978bed7c",
   "metadata": {},
   "outputs": [
    {
     "name": "stderr",
     "output_type": "stream",
     "text": [
      "100%|██████████| 25995/25995 [00:00<00:00, 117093.40it/s]\n"
     ]
    }
   ],
   "source": [
    "import tqdm\n",
    "vector_lists = []\n",
    "\n",
    "for i in tqdm.tqdm(range(len(tweets_clustered))):\n",
    "    vector_lists.append(model_d2v[i].tolist())"
   ]
  },
  {
   "cell_type": "code",
   "execution_count": 94,
   "id": "fe0bd7a6-4290-4767-9276-28395e37febf",
   "metadata": {},
   "outputs": [],
   "source": [
    "tweets_clustered['vectors'] = vector_lists"
   ]
  },
  {
   "cell_type": "code",
   "execution_count": 95,
   "id": "a3b781c9-75fb-4715-baed-de1465abb1c1",
   "metadata": {},
   "outputs": [
    {
     "data": {
      "text/plain": [
       "source            0\n",
       "year              0\n",
       "Tweets_cleaned    0\n",
       "Cluster_labels    0\n",
       "month             0\n",
       "day_of_week       0\n",
       "vectors           0\n",
       "dtype: int64"
      ]
     },
     "execution_count": 95,
     "metadata": {},
     "output_type": "execute_result"
    }
   ],
   "source": [
    "tweets_clustered.isna().sum()"
   ]
  },
  {
   "cell_type": "code",
   "execution_count": 96,
   "id": "fc60332e-f0e7-46e6-b419-bbf01561ba44",
   "metadata": {},
   "outputs": [
    {
     "data": {
      "text/plain": [
       "(25995, 7)"
      ]
     },
     "execution_count": 96,
     "metadata": {},
     "output_type": "execute_result"
    }
   ],
   "source": [
    "tweets_clustered.shape"
   ]
  },
  {
   "cell_type": "code",
   "execution_count": 97,
   "id": "b0e2f121-e0ea-4cac-8f9e-dfea65c70d52",
   "metadata": {},
   "outputs": [
    {
     "data": {
      "text/html": [
       "<div>\n",
       "<style scoped>\n",
       "    .dataframe tbody tr th:only-of-type {\n",
       "        vertical-align: middle;\n",
       "    }\n",
       "\n",
       "    .dataframe tbody tr th {\n",
       "        vertical-align: top;\n",
       "    }\n",
       "\n",
       "    .dataframe thead th {\n",
       "        text-align: right;\n",
       "    }\n",
       "</style>\n",
       "<table border=\"1\" class=\"dataframe\">\n",
       "  <thead>\n",
       "    <tr style=\"text-align: right;\">\n",
       "      <th></th>\n",
       "      <th>source</th>\n",
       "      <th>year</th>\n",
       "      <th>Tweets_cleaned</th>\n",
       "      <th>Cluster_labels</th>\n",
       "      <th>month</th>\n",
       "      <th>day_of_week</th>\n",
       "      <th>vectors</th>\n",
       "    </tr>\n",
       "  </thead>\n",
       "  <tbody>\n",
       "    <tr>\n",
       "      <th>0</th>\n",
       "      <td>bbchealth</td>\n",
       "      <td>2014</td>\n",
       "      <td>experimental drug uk ebola nurse</td>\n",
       "      <td>4</td>\n",
       "      <td>12</td>\n",
       "      <td>2</td>\n",
       "      <td>[0.08250287920236588, -2.3711700439453125, 2.6...</td>\n",
       "    </tr>\n",
       "    <tr>\n",
       "      <th>1</th>\n",
       "      <td>bbchealth</td>\n",
       "      <td>2014</td>\n",
       "      <td>ebola screen test scrutiny</td>\n",
       "      <td>5</td>\n",
       "      <td>12</td>\n",
       "      <td>2</td>\n",
       "      <td>[-2.8149335384368896, 2.150209426879883, 1.211...</td>\n",
       "    </tr>\n",
       "    <tr>\n",
       "      <th>2</th>\n",
       "      <td>bbchealth</td>\n",
       "      <td>2014</td>\n",
       "      <td>uk ebola screen scrutiny</td>\n",
       "      <td>5</td>\n",
       "      <td>12</td>\n",
       "      <td>2</td>\n",
       "      <td>[-0.39117875695228577, 0.5310998558998108, 0.0...</td>\n",
       "    </tr>\n",
       "    <tr>\n",
       "      <th>3</th>\n",
       "      <td>bbchealth</td>\n",
       "      <td>2014</td>\n",
       "      <td>frontline staff give honour</td>\n",
       "      <td>2</td>\n",
       "      <td>12</td>\n",
       "      <td>1</td>\n",
       "      <td>[-0.7252945303916931, -1.6841784715652466, 3.5...</td>\n",
       "    </tr>\n",
       "    <tr>\n",
       "      <th>4</th>\n",
       "      <td>bbchealth</td>\n",
       "      <td>2014</td>\n",
       "      <td>plasma treatment uk ebola</td>\n",
       "      <td>5</td>\n",
       "      <td>12</td>\n",
       "      <td>1</td>\n",
       "      <td>[0.248702272772789, -1.1728663444519043, 1.994...</td>\n",
       "    </tr>\n",
       "  </tbody>\n",
       "</table>\n",
       "</div>"
      ],
      "text/plain": [
       "      source  year                    Tweets_cleaned  Cluster_labels  month  \\\n",
       "0  bbchealth  2014  experimental drug uk ebola nurse               4     12   \n",
       "1  bbchealth  2014        ebola screen test scrutiny               5     12   \n",
       "2  bbchealth  2014          uk ebola screen scrutiny               5     12   \n",
       "3  bbchealth  2014       frontline staff give honour               2     12   \n",
       "4  bbchealth  2014         plasma treatment uk ebola               5     12   \n",
       "\n",
       "   day_of_week                                            vectors  \n",
       "0            2  [0.08250287920236588, -2.3711700439453125, 2.6...  \n",
       "1            2  [-2.8149335384368896, 2.150209426879883, 1.211...  \n",
       "2            2  [-0.39117875695228577, 0.5310998558998108, 0.0...  \n",
       "3            1  [-0.7252945303916931, -1.6841784715652466, 3.5...  \n",
       "4            1  [0.248702272772789, -1.1728663444519043, 1.994...  "
      ]
     },
     "execution_count": 97,
     "metadata": {},
     "output_type": "execute_result"
    }
   ],
   "source": [
    "tweets_clustered.head(5)"
   ]
  },
  {
   "cell_type": "markdown",
   "id": "dd986865-1121-4e52-b55f-94c0da6489c6",
   "metadata": {},
   "source": [
    "### File to use in Part Three"
   ]
  },
  {
   "cell_type": "code",
   "execution_count": 98,
   "id": "8009dc1f",
   "metadata": {},
   "outputs": [
    {
     "data": {
      "text/plain": [
       "'PartTwo_2014.csv'"
      ]
     },
     "execution_count": 98,
     "metadata": {},
     "output_type": "execute_result"
    }
   ],
   "source": [
    "NewWorkingFileName = 'PartTwo_' + Working_file.split('_', 1)[1] + '.csv'\n",
    "NewWorkingFileName"
   ]
  },
  {
   "cell_type": "code",
   "execution_count": 99,
   "id": "4e493f80-9255-4747-aa5f-5f980700549c",
   "metadata": {},
   "outputs": [],
   "source": [
    "tweets_clustered.to_csv(NewWorkingFileName, index=False)"
   ]
  },
  {
   "cell_type": "markdown",
   "id": "afacfb1c-796a-45e8-955b-f149a1bfacad",
   "metadata": {},
   "source": [
    "#### End of Part Two and move to Part Three"
   ]
  }
 ],
 "metadata": {
  "kernelspec": {
   "display_name": "Python 3",
   "language": "python",
   "name": "python3"
  },
  "language_info": {
   "codemirror_mode": {
    "name": "ipython",
    "version": 3
   },
   "file_extension": ".py",
   "mimetype": "text/x-python",
   "name": "python",
   "nbconvert_exporter": "python",
   "pygments_lexer": "ipython3",
   "version": "3.8.8"
  }
 },
 "nbformat": 4,
 "nbformat_minor": 5
}
